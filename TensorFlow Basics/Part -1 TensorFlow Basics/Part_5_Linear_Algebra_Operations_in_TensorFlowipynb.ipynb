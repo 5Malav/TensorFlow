{
  "nbformat": 4,
  "nbformat_minor": 0,
  "metadata": {
    "colab": {
      "provenance": []
    },
    "kernelspec": {
      "name": "python3",
      "display_name": "Python 3"
    },
    "language_info": {
      "name": "python"
    }
  },
  "cells": [
    {
      "cell_type": "code",
      "execution_count": null,
      "metadata": {
        "id": "kwBt4W-C99V3"
      },
      "outputs": [],
      "source": [
        "import tensorflow as tf"
      ]
    },
    {
      "cell_type": "code",
      "source": [
        "# tf. linalg. matmul\n",
        "\n",
        "# Mutliplication matrix a by matrix b producing a*b\n"
      ],
      "metadata": {
        "id": "UWUfbQgu-Dm2"
      },
      "execution_count": null,
      "outputs": []
    },
    {
      "cell_type": "code",
      "source": [
        "# when we multiply matrix\n",
        "# No. of columns of 1st matrix should always match the number\n",
        "# of rows of the second matrix.\n",
        "\n",
        "a = tf.constant([\n",
        "    [3,1,9,6,5],\n",
        "    [0,1,7,3,2],\n",
        "    [1,5,1,2,0],\n",
        "    [7,3,0,9,0]\n",
        "])\n",
        "\n",
        "\n",
        "b = tf.constant([\n",
        "    [3,1,9,6,5],\n",
        "    [0,1,7,3,2],\n",
        "    [1,5,1,2,0],\n",
        "    [7,3,0,9,0],\n",
        "    [1,4,5,9,10]\n",
        "])\n",
        "\n",
        "tensor_matrix = tf.linalg.matmul(\n",
        "    a,\n",
        "    b,\n",
        "    transpose_a=False,\n",
        "    transpose_b=False,\n",
        "    adjoint_a=False,\n",
        "    adjoint_b=False,\n",
        "    a_is_sparse=False,\n",
        "    b_is_sparse=False,\n",
        "    output_type=None,\n",
        "    name=None\n",
        ")\n",
        "print(tensor_matrix)\n"
      ],
      "metadata": {
        "colab": {
          "base_uri": "https://localhost:8080/"
        },
        "id": "Q056MJRP-DqZ",
        "outputId": "465e9202-ea6f-4daa-d443-1c7b81babe82"
      },
      "execution_count": null,
      "outputs": [
        {
          "output_type": "stream",
          "name": "stdout",
          "text": [
            "tf.Tensor(\n",
            "[[ 65  87  68 138  67]\n",
            " [ 30  53  24  62  22]\n",
            " [ 18  17  45  41  15]\n",
            " [ 84  37  84 132  41]], shape=(4, 5), dtype=int32)\n"
          ]
        }
      ]
    },
    {
      "cell_type": "code",
      "source": [
        "\n",
        "a = tf.constant([\n",
        "   [1,2,3],\n",
        "   [4,5,6]\n",
        "])\n",
        "\n",
        "\n",
        "b = tf.constant([\n",
        "    [1,2,3],\n",
        "    [4,5,6],\n",
        "    [7,8,9]\n",
        "])\n",
        "\n",
        "tensor_matrix = tf.linalg.matmul(\n",
        "    a,\n",
        "    b,\n",
        "    transpose_a=False,\n",
        "    transpose_b=False,\n",
        "    adjoint_a=False,\n",
        "    adjoint_b=False,\n",
        "    a_is_sparse=False,\n",
        "    b_is_sparse=False,\n",
        "    output_type=None,\n",
        "    name=None\n",
        ")\n",
        "print(tensor_matrix)\n"
      ],
      "metadata": {
        "colab": {
          "base_uri": "https://localhost:8080/"
        },
        "id": "4HsG2IHlZ9FO",
        "outputId": "c2004231-12a4-4cb8-a1b7-7a3b1fece7b7"
      },
      "execution_count": null,
      "outputs": [
        {
          "output_type": "stream",
          "name": "stdout",
          "text": [
            "tf.Tensor(\n",
            "[[30 36 42]\n",
            " [66 81 96]], shape=(2, 3), dtype=int32)\n"
          ]
        }
      ]
    },
    {
      "cell_type": "code",
      "source": [
        "a = tf.constant([\n",
        "   [1,2,3],\n",
        "   [4,5,6]\n",
        "])\n",
        "\n",
        "print(a)\n",
        "\n",
        "print(\"\")\n",
        "\n",
        "print(a.shape,tf.transpose(a))\n"
      ],
      "metadata": {
        "colab": {
          "base_uri": "https://localhost:8080/"
        },
        "id": "YeGs-O0MZ9CL",
        "outputId": "bd6f8679-50ef-412e-f296-2b7cff9ac860"
      },
      "execution_count": null,
      "outputs": [
        {
          "output_type": "stream",
          "name": "stdout",
          "text": [
            "tf.Tensor(\n",
            "[[1 2 3]\n",
            " [4 5 6]], shape=(2, 3), dtype=int32)\n",
            "\n",
            "(2, 3) tf.Tensor(\n",
            "[[1 4]\n",
            " [2 5]\n",
            " [3 6]], shape=(3, 2), dtype=int32)\n"
          ]
        }
      ]
    },
    {
      "cell_type": "code",
      "source": [
        " # a * transpose(b)\n",
        "\n",
        "\n",
        "a = tf.constant([\n",
        "   [1,2,3],\n",
        "   [2,1,1]\n",
        "])\n",
        "\n",
        "\n",
        "b = tf.constant([\n",
        "    [1,2,3],\n",
        "    [4,5,6],\n",
        "    [2,2,2]\n",
        "])\n",
        "\n",
        "print(a)\n",
        "print(\" \")\n",
        "\n",
        "print(b.shape,tf.transpose(b))\n",
        "\n",
        "print(\" \")\n",
        "\n",
        "tensor_matrix = tf.linalg.matmul(\n",
        "    a,\n",
        "    b,\n",
        "    transpose_a=False,\n",
        "    transpose_b=True,\n",
        "    adjoint_a=False,\n",
        "    adjoint_b=False,\n",
        "    a_is_sparse=False,\n",
        "    b_is_sparse=False,\n",
        "    output_type=None,\n",
        "    name=None\n",
        ")\n",
        "print(tensor_matrix)\n"
      ],
      "metadata": {
        "colab": {
          "base_uri": "https://localhost:8080/"
        },
        "id": "FWfRlXCbZ8_e",
        "outputId": "5fbf2a97-029a-453a-97a2-9569fd2eb805"
      },
      "execution_count": null,
      "outputs": [
        {
          "output_type": "stream",
          "name": "stdout",
          "text": [
            "tf.Tensor(\n",
            "[[1 2 3]\n",
            " [2 1 1]], shape=(2, 3), dtype=int32)\n",
            " \n",
            "(3, 3) tf.Tensor(\n",
            "[[1 4 2]\n",
            " [2 5 2]\n",
            " [3 6 2]], shape=(3, 3), dtype=int32)\n",
            " \n",
            "tf.Tensor(\n",
            "[[14 32 12]\n",
            " [ 7 19  8]], shape=(2, 3), dtype=int32)\n"
          ]
        }
      ]
    },
    {
      "cell_type": "code",
      "source": [
        "a_three_d = tf.constant(\n",
        "    [\n",
        "      [[1,2],\n",
        "      [3,5]],\n",
        "\n",
        "      [[10,2],\n",
        "       [1,0]],\n",
        "\n",
        "      [[5,8],\n",
        "       [2,7]],\n",
        "\n",
        "      [[2,1],\n",
        "       [4,3]]\n",
        "        ]\n",
        ")\n",
        "print(a_three_d)\n",
        "\n",
        "b_three_d = tf.constant(\n",
        "    [\n",
        "      [[1,2,0],\n",
        "      [3,5,-1]],\n",
        "\n",
        "      [[10,2,0],\n",
        "       [1,0,2]],\n",
        "\n",
        "      [[5,8,8],\n",
        "       [2,7,0]],\n",
        "\n",
        "      [[2,1,9],\n",
        "       [4,3,-2]]\n",
        "        ]\n",
        ")\n",
        "print(b_three_d)\n"
      ],
      "metadata": {
        "colab": {
          "base_uri": "https://localhost:8080/"
        },
        "id": "tHuWwJQHZ86L",
        "outputId": "6848bc5c-fc08-43e7-8414-432a389b18a1"
      },
      "execution_count": null,
      "outputs": [
        {
          "output_type": "stream",
          "name": "stdout",
          "text": [
            "tf.Tensor(\n",
            "[[[ 1  2]\n",
            "  [ 3  5]]\n",
            "\n",
            " [[10  2]\n",
            "  [ 1  0]]\n",
            "\n",
            " [[ 5  8]\n",
            "  [ 2  7]]\n",
            "\n",
            " [[ 2  1]\n",
            "  [ 4  3]]], shape=(4, 2, 2), dtype=int32)\n",
            "tf.Tensor(\n",
            "[[[ 1  2  0]\n",
            "  [ 3  5 -1]]\n",
            "\n",
            " [[10  2  0]\n",
            "  [ 1  0  2]]\n",
            "\n",
            " [[ 5  8  8]\n",
            "  [ 2  7  0]]\n",
            "\n",
            " [[ 2  1  9]\n",
            "  [ 4  3 -2]]], shape=(4, 2, 3), dtype=int32)\n"
          ]
        }
      ]
    },
    {
      "cell_type": "code",
      "source": [
        "print(a_three_d.shape,b_three_d.shape)\n"
      ],
      "metadata": {
        "colab": {
          "base_uri": "https://localhost:8080/"
        },
        "id": "drZvJLXpZ83p",
        "outputId": "38edcffb-9ad3-44e1-949b-c991736fe187"
      },
      "execution_count": null,
      "outputs": [
        {
          "output_type": "stream",
          "name": "stdout",
          "text": [
            "(4, 2, 2) (4, 2, 3)\n"
          ]
        }
      ]
    },
    {
      "cell_type": "code",
      "source": [
        "print(tf.linalg.matmul(a_three_d,b_three_d))\n"
      ],
      "metadata": {
        "colab": {
          "base_uri": "https://localhost:8080/"
        },
        "id": "qLfhNuqIZ81K",
        "outputId": "1f2e0bb5-b477-44ef-8225-f0ce422139ed"
      },
      "execution_count": null,
      "outputs": [
        {
          "output_type": "stream",
          "name": "stdout",
          "text": [
            "tf.Tensor(\n",
            "[[[  7  12  -2]\n",
            "  [ 18  31  -5]]\n",
            "\n",
            " [[102  20   4]\n",
            "  [ 10   2   0]]\n",
            "\n",
            " [[ 41  96  40]\n",
            "  [ 24  65  16]]\n",
            "\n",
            " [[  8   5  16]\n",
            "  [ 20  13  30]]], shape=(4, 2, 3), dtype=int32)\n"
          ]
        }
      ]
    },
    {
      "cell_type": "code",
      "source": [
        "print(a_three_d[0],b_three_d[0])\n"
      ],
      "metadata": {
        "colab": {
          "base_uri": "https://localhost:8080/"
        },
        "id": "OfyS7vt4Z8yl",
        "outputId": "3382cd4f-4694-452d-a37f-91f6dc4c6751"
      },
      "execution_count": null,
      "outputs": [
        {
          "output_type": "stream",
          "name": "stdout",
          "text": [
            "tf.Tensor(\n",
            "[[1 2]\n",
            " [3 5]], shape=(2, 2), dtype=int32) tf.Tensor(\n",
            "[[ 1  2  0]\n",
            " [ 3  5 -1]], shape=(2, 3), dtype=int32)\n"
          ]
        }
      ]
    },
    {
      "cell_type": "code",
      "source": [
        "a_three_d[0]@b_three_d[0]"
      ],
      "metadata": {
        "colab": {
          "base_uri": "https://localhost:8080/"
        },
        "id": "3fQqAmeHZ8v3",
        "outputId": "a5011360-47ee-4b2b-8486-cacd2817537b"
      },
      "execution_count": null,
      "outputs": [
        {
          "output_type": "execute_result",
          "data": {
            "text/plain": [
              "<tf.Tensor: shape=(2, 3), dtype=int32, numpy=\n",
              "array([[ 7, 12, -2],\n",
              "       [18, 31, -5]], dtype=int32)>"
            ]
          },
          "metadata": {},
          "execution_count": 11
        }
      ]
    },
    {
      "cell_type": "code",
      "source": [
        "a_three_d[2]@b_three_d[2]"
      ],
      "metadata": {
        "colab": {
          "base_uri": "https://localhost:8080/"
        },
        "id": "sb5wA_5qZ8tY",
        "outputId": "1112a03f-6b65-4930-9506-fd2940a3ad1d"
      },
      "execution_count": null,
      "outputs": [
        {
          "output_type": "execute_result",
          "data": {
            "text/plain": [
              "<tf.Tensor: shape=(2, 3), dtype=int32, numpy=\n",
              "array([[41, 96, 40],\n",
              "       [24, 65, 16]], dtype=int32)>"
            ]
          },
          "metadata": {},
          "execution_count": 12
        }
      ]
    },
    {
      "cell_type": "code",
      "source": [
        "# tf. linalg.band_part\n",
        "\n",
        "# Copy a tensor setting everything outside a central band in each\n",
        "# innermost matrix to zero\n"
      ],
      "metadata": {
        "id": "BceH4doBZ8rE"
      },
      "execution_count": null,
      "outputs": []
    },
    {
      "cell_type": "code",
      "source": [
        "x =  tf.constant([[0,1,2,3],\n",
        "                  [-1,0,1,2],\n",
        "                  [-2,-1,0,1],\n",
        "                  [-3,-2,-1,0]])\n",
        "x"
      ],
      "metadata": {
        "colab": {
          "base_uri": "https://localhost:8080/"
        },
        "id": "s0KPZkwAZ8oK",
        "outputId": "5e0e8663-5102-4fbc-d149-f4a3ba13b3d7"
      },
      "execution_count": null,
      "outputs": [
        {
          "output_type": "execute_result",
          "data": {
            "text/plain": [
              "<tf.Tensor: shape=(4, 4), dtype=int32, numpy=\n",
              "array([[ 0,  1,  2,  3],\n",
              "       [-1,  0,  1,  2],\n",
              "       [-2, -1,  0,  1],\n",
              "       [-3, -2, -1,  0]], dtype=int32)>"
            ]
          },
          "metadata": {},
          "execution_count": 14
        }
      ]
    },
    {
      "cell_type": "code",
      "source": [
        "a =  tf.constant([\n",
        "    [1,5,1],\n",
        "    [7,9,3],\n",
        "    [1,3,1]\n",
        "    ])\n",
        "a"
      ],
      "metadata": {
        "colab": {
          "base_uri": "https://localhost:8080/"
        },
        "id": "b2NUNY15Z8lU",
        "outputId": "6b1a41a2-24ae-402c-bd14-1263b7eb2caf"
      },
      "execution_count": null,
      "outputs": [
        {
          "output_type": "execute_result",
          "data": {
            "text/plain": [
              "<tf.Tensor: shape=(3, 3), dtype=int32, numpy=\n",
              "array([[1, 5, 1],\n",
              "       [7, 9, 3],\n",
              "       [1, 3, 1]], dtype=int32)>"
            ]
          },
          "metadata": {},
          "execution_count": 15
        }
      ]
    },
    {
      "cell_type": "code",
      "source": [
        "\"\"\"\n",
        "Condition:- m for row and n for column\n",
        "\n",
        "m = 0, n = 0, m-n =0, n-m =0\n",
        "\n",
        "False             True                 False          True\n",
        "        True                                    True\n",
        "                                True\n",
        "(num_lower<0 || (m-n)<=num_lower) && (num_upper<0 || (n-m)<=num_upper)\n",
        "\n",
        "\"\"\""
      ],
      "metadata": {
        "colab": {
          "base_uri": "https://localhost:8080/",
          "height": 91
        },
        "id": "WHVFMhm30erO",
        "outputId": "33c43f6c-c3fe-4928-e7aa-bb211e08ccca"
      },
      "execution_count": null,
      "outputs": [
        {
          "output_type": "execute_result",
          "data": {
            "text/plain": [
              "'\\nCondition:- m for row and n for column\\n\\nm = 0, n = 0, m-n =0, n-m =0\\n\\nFalse             True                 False          True\\n        True                                    True\\n                                True\\n(num_lower<0 || (m-n)<=num_lower) && (num_upper<0 || (n-m)<=num_upper)\\n\\n'"
            ],
            "application/vnd.google.colaboratory.intrinsic+json": {
              "type": "string"
            }
          },
          "metadata": {},
          "execution_count": 16
        }
      ]
    },
    {
      "cell_type": "code",
      "source": [
        "\n",
        "tensor_band_part=tf.linalg.band_part(a,0,0)\n",
        "print(tensor_band_part)"
      ],
      "metadata": {
        "colab": {
          "base_uri": "https://localhost:8080/"
        },
        "id": "ykqsGOEjZ8iq",
        "outputId": "f2decabe-edbc-40d6-9cbb-2dd3d221deea"
      },
      "execution_count": null,
      "outputs": [
        {
          "output_type": "stream",
          "name": "stdout",
          "text": [
            "tf.Tensor(\n",
            "[[1 0 0]\n",
            " [0 9 0]\n",
            " [0 0 1]], shape=(3, 3), dtype=int32)\n"
          ]
        }
      ]
    },
    {
      "cell_type": "code",
      "source": [
        "# tf. linalg. det\n",
        "\n",
        "# Computes the determinant of one or more square matrices\n",
        "\n",
        "# No of rows should be equal to No. of columns\n"
      ],
      "metadata": {
        "id": "4XiSK8yI0AAT"
      },
      "execution_count": null,
      "outputs": []
    },
    {
      "cell_type": "code",
      "source": [
        "x =  tf.constant([[1.0,2.0],\n",
        "                  [5.0,6.0]])\n",
        "\n",
        "y =  tf.constant([[1.0,2.0],\n",
        "                  [3.0,4.0]])"
      ],
      "metadata": {
        "id": "YuxXZNbr-DtM"
      },
      "execution_count": null,
      "outputs": []
    },
    {
      "cell_type": "code",
      "source": [
        "tensor_deter= tf.linalg.det(x,y)\n",
        "tensor_deter"
      ],
      "metadata": {
        "colab": {
          "base_uri": "https://localhost:8080/"
        },
        "id": "jIJfB0Et-DwG",
        "outputId": "1e5b6265-0e5d-4463-e63d-e24f4ddcc13c"
      },
      "execution_count": null,
      "outputs": [
        {
          "output_type": "execute_result",
          "data": {
            "text/plain": [
              "<tf.Tensor: shape=(), dtype=float32, numpy=-4.0>"
            ]
          },
          "metadata": {},
          "execution_count": 26
        }
      ]
    },
    {
      "cell_type": "code",
      "source": [
        "# Inverse of a matrix\n",
        "\n",
        "# A inverse* A = Identity matrix\n",
        "\n",
        "# tf.linalg.inv\n",
        "\n",
        "# Cmputes the inverse of one or more square matrices or their\n",
        "# adjoints( conjuagate transposes)\n"
      ],
      "metadata": {
        "id": "dwcLzk27-Dy0"
      },
      "execution_count": null,
      "outputs": []
    },
    {
      "cell_type": "code",
      "source": [
        "x =  tf.constant([[1.0,2.0],\n",
        "                  [5.0,6.0]])\n",
        "\n",
        "y =  tf.constant([[1.0,2.0],\n",
        "                  [3.0,4.0]])"
      ],
      "metadata": {
        "id": "O5kVoDTg-D1m"
      },
      "execution_count": null,
      "outputs": []
    },
    {
      "cell_type": "code",
      "source": [
        "tf.linalg.inv(x,adjoint=True)\n"
      ],
      "metadata": {
        "colab": {
          "base_uri": "https://localhost:8080/"
        },
        "id": "c5v2pcj5mzgs",
        "outputId": "c6bdefae-5d40-4aaa-9d9e-eac3cdbbb41b"
      },
      "execution_count": null,
      "outputs": [
        {
          "output_type": "execute_result",
          "data": {
            "text/plain": [
              "<tf.Tensor: shape=(2, 2), dtype=float32, numpy=\n",
              "array([[-1.5 ,  1.25],\n",
              "       [ 0.5 , -0.25]], dtype=float32)>"
            ]
          },
          "metadata": {},
          "execution_count": 32
        }
      ]
    },
    {
      "cell_type": "code",
      "source": [
        "# tf. einsum\n",
        "\n",
        "# Tensor contraction over specified indices and outer product\n"
      ],
      "metadata": {
        "id": "pXS3FkUymzcO"
      },
      "execution_count": null,
      "outputs": []
    },
    {
      "cell_type": "code",
      "source": [
        "a = tf.constant([[1,2,],\n",
        "               [3,4]])\n",
        "\n",
        "b = tf.constant([[1,2,],\n",
        "               [3,4]])\n"
      ],
      "metadata": {
        "id": "M8mqlsnImzVb"
      },
      "execution_count": null,
      "outputs": []
    },
    {
      "cell_type": "code",
      "source": [
        "tf.linalg.matmul(a,b)"
      ],
      "metadata": {
        "id": "3Z4bFrgymzRN",
        "colab": {
          "base_uri": "https://localhost:8080/"
        },
        "outputId": "bb0cfb48-2ec2-46ce-e843-de8b506dfff7"
      },
      "execution_count": null,
      "outputs": [
        {
          "output_type": "execute_result",
          "data": {
            "text/plain": [
              "<tf.Tensor: shape=(2, 2), dtype=int32, numpy=\n",
              "array([[ 7, 10],\n",
              "       [15, 22]], dtype=int32)>"
            ]
          },
          "metadata": {},
          "execution_count": 35
        }
      ]
    },
    {
      "cell_type": "code",
      "source": [
        "tf.einsum(\"ij,jk->ik\",a,b)\n"
      ],
      "metadata": {
        "id": "RzokS3LRmzMZ",
        "colab": {
          "base_uri": "https://localhost:8080/"
        },
        "outputId": "34f16079-3112-408a-bea7-006cc67fd801"
      },
      "execution_count": null,
      "outputs": [
        {
          "output_type": "execute_result",
          "data": {
            "text/plain": [
              "<tf.Tensor: shape=(2, 2), dtype=int32, numpy=\n",
              "array([[ 7, 10],\n",
              "       [15, 22]], dtype=int32)>"
            ]
          },
          "metadata": {},
          "execution_count": 36
        }
      ]
    },
    {
      "cell_type": "code",
      "source": [
        "a =  tf.constant([2,6,5,2])\n",
        "b = tf.constant([0,1,3,2])\n",
        "\n"
      ],
      "metadata": {
        "id": "-fFLlN_mmzIN"
      },
      "execution_count": null,
      "outputs": []
    },
    {
      "cell_type": "code",
      "source": [
        "tf.einsum(\"i,j->\",a,b)"
      ],
      "metadata": {
        "colab": {
          "base_uri": "https://localhost:8080/"
        },
        "id": "yFoVyBFmz_H0",
        "outputId": "96dedc45-2376-4a56-9229-c8be9a1385ec"
      },
      "execution_count": null,
      "outputs": [
        {
          "output_type": "execute_result",
          "data": {
            "text/plain": [
              "<tf.Tensor: shape=(), dtype=int32, numpy=90>"
            ]
          },
          "metadata": {},
          "execution_count": 43
        }
      ]
    },
    {
      "cell_type": "code",
      "source": [
        "tf.einsum(\"i,j->ji\",a,b)"
      ],
      "metadata": {
        "colab": {
          "base_uri": "https://localhost:8080/"
        },
        "id": "Zx-v8Buuz_E5",
        "outputId": "cc519dec-4b59-4f16-a706-db9657f64cb6"
      },
      "execution_count": null,
      "outputs": [
        {
          "output_type": "execute_result",
          "data": {
            "text/plain": [
              "<tf.Tensor: shape=(4, 4), dtype=int32, numpy=\n",
              "array([[ 0,  0,  0,  0],\n",
              "       [ 2,  6,  5,  2],\n",
              "       [ 6, 18, 15,  6],\n",
              "       [ 4, 12, 10,  4]], dtype=int32)>"
            ]
          },
          "metadata": {},
          "execution_count": 44
        }
      ]
    },
    {
      "cell_type": "code",
      "source": [
        "tf.einsum(\"i,i->\",a,b)"
      ],
      "metadata": {
        "id": "N11Gi7Kf10Lj",
        "colab": {
          "base_uri": "https://localhost:8080/"
        },
        "outputId": "ba15b9b9-24c1-409c-a1a3-219e6e4b8203"
      },
      "execution_count": 45,
      "outputs": [
        {
          "output_type": "execute_result",
          "data": {
            "text/plain": [
              "<tf.Tensor: shape=(), dtype=int32, numpy=25>"
            ]
          },
          "metadata": {},
          "execution_count": 45
        }
      ]
    },
    {
      "cell_type": "code",
      "source": [
        "tf.einsum(\"j,j->\",a,b)"
      ],
      "metadata": {
        "id": "OhebqGM910Ig",
        "colab": {
          "base_uri": "https://localhost:8080/"
        },
        "outputId": "28a1015e-f1f0-4e42-cd20-6573c45d70b8"
      },
      "execution_count": 46,
      "outputs": [
        {
          "output_type": "execute_result",
          "data": {
            "text/plain": [
              "<tf.Tensor: shape=(), dtype=int32, numpy=25>"
            ]
          },
          "metadata": {},
          "execution_count": 46
        }
      ]
    }
  ]
}