{
  "nbformat": 4,
  "nbformat_minor": 0,
  "metadata": {
    "colab": {
      "provenance": []
    },
    "kernelspec": {
      "name": "python3",
      "display_name": "Python 3"
    },
    "language_info": {
      "name": "python"
    }
  },
  "cells": [
    {
      "cell_type": "code",
      "source": [
        "import tensorflow as tf\n",
        "import numpy as np"
      ],
      "metadata": {
        "id": "TzWv7qsxUCJl"
      },
      "execution_count": 1,
      "outputs": []
    },
    {
      "cell_type": "code",
      "execution_count": 2,
      "metadata": {
        "colab": {
          "base_uri": "https://localhost:8080/"
        },
        "id": "vqDEbL4Sh0PU",
        "outputId": "0bab1274-485d-4905-961d-3ded90dfb15e"
      },
      "outputs": [
        {
          "output_type": "stream",
          "name": "stdout",
          "text": [
            "tf.Tensor([ 2.  0. -3.  9. 90.], shape=(5,), dtype=float64)\n"
          ]
        }
      ],
      "source": [
        "tensor_one_d= tf.constant([2,0,-3,9,90],dtype=tf.float64)\n",
        "print(tensor_one_d)"
      ]
    },
    {
      "cell_type": "code",
      "source": [
        "# for memory use lower precision tensor\n",
        "\n"
      ],
      "metadata": {
        "id": "iNYKTiJ2UBrl"
      },
      "execution_count": 3,
      "outputs": []
    },
    {
      "cell_type": "code",
      "source": [
        "#tensor_one_d= tf.constant([2,0.2,-3,9,90],dtype=tf.int64)\n",
        "#print(tensor_one_d)\n",
        "\n",
        "# This will give an error\n",
        "# TypeError: Cannot convert [2, 0.2, -3, 9, 90] to EagerTensor of dtype int64\n"
      ],
      "metadata": {
        "id": "xllaBhuCh7Yf"
      },
      "execution_count": 4,
      "outputs": []
    },
    {
      "cell_type": "code",
      "source": [
        "# To solve this issue cast method can be used\n",
        "tensor_one_d= tf.constant([2,0.2,-3,9,90],dtype=tf.float64)\n",
        "print(tensor_one_d)\n",
        "\n",
        "print(\" \")\n",
        "\n",
        "casted_tensor_one_d = tf.cast(tensor_one_d,dtype=tf.int16)\n",
        "print(casted_tensor_one_d)\n"
      ],
      "metadata": {
        "colab": {
          "base_uri": "https://localhost:8080/"
        },
        "id": "sYm8HG22h7bM",
        "outputId": "b7092882-8381-45c0-ed92-92d5f8a9f5c0"
      },
      "execution_count": 5,
      "outputs": [
        {
          "output_type": "stream",
          "name": "stdout",
          "text": [
            "tf.Tensor([ 2.   0.2 -3.   9.  90. ], shape=(5,), dtype=float64)\n",
            " \n",
            "tf.Tensor([ 2  0 -3  9 90], shape=(5,), dtype=int16)\n"
          ]
        }
      ]
    },
    {
      "cell_type": "code",
      "source": [
        "# caste into boolian\n",
        "\n",
        "tensor_one_d= tf.constant([2,0.,-3,9,90],dtype=tf.float32)\n",
        "print(tensor_one_d)\n",
        "\n",
        "print(\" \")\n",
        "\n",
        "casted_tensor_one_d = tf.cast(tensor_one_d,dtype=tf.bool)\n",
        "print(casted_tensor_one_d)\n"
      ],
      "metadata": {
        "colab": {
          "base_uri": "https://localhost:8080/"
        },
        "id": "H6oQBy--h7dn",
        "outputId": "f5d67122-369f-442f-9c6a-f5013e545032"
      },
      "execution_count": 6,
      "outputs": [
        {
          "output_type": "stream",
          "name": "stdout",
          "text": [
            "tf.Tensor([ 2.  0. -3.  9. 90.], shape=(5,), dtype=float32)\n",
            " \n",
            "tf.Tensor([ True False  True  True  True], shape=(5,), dtype=bool)\n"
          ]
        }
      ]
    },
    {
      "cell_type": "code",
      "source": [
        "tensor_bool = tf.constant([True,True,False])\n",
        "\n",
        "print(tensor_bool)"
      ],
      "metadata": {
        "colab": {
          "base_uri": "https://localhost:8080/"
        },
        "id": "R-nqdqZxh7gM",
        "outputId": "de734a66-138d-4de7-c016-6aa7d0c9dbff"
      },
      "execution_count": 7,
      "outputs": [
        {
          "output_type": "stream",
          "name": "stdout",
          "text": [
            "tf.Tensor([ True  True False], shape=(3,), dtype=bool)\n"
          ]
        }
      ]
    },
    {
      "cell_type": "code",
      "source": [
        "tensor_string = tf.constant([\"TensorFlow and PYTorch\"])\n",
        "print(tensor_string)"
      ],
      "metadata": {
        "colab": {
          "base_uri": "https://localhost:8080/"
        },
        "id": "CW-CTJ8Lh7i7",
        "outputId": "6a785033-7a5f-48aa-d17b-d14878ca9378"
      },
      "execution_count": 8,
      "outputs": [
        {
          "output_type": "stream",
          "name": "stdout",
          "text": [
            "tf.Tensor([b'TensorFlow and PYTorch'], shape=(1,), dtype=string)\n"
          ]
        }
      ]
    },
    {
      "cell_type": "code",
      "source": [
        "# convert numpy array to tensor\n",
        "\n"
      ],
      "metadata": {
        "id": "U0pwYU04h7lT"
      },
      "execution_count": 9,
      "outputs": []
    },
    {
      "cell_type": "code",
      "source": [
        "np_arr =  np.array([1,2,3])\n",
        "print(np_arr)"
      ],
      "metadata": {
        "colab": {
          "base_uri": "https://localhost:8080/"
        },
        "id": "Mok2Txwyh7n4",
        "outputId": "90538c91-a3b2-47b4-d669-75f23b5be3f6"
      },
      "execution_count": 10,
      "outputs": [
        {
          "output_type": "stream",
          "name": "stdout",
          "text": [
            "[1 2 3]\n"
          ]
        }
      ]
    },
    {
      "cell_type": "code",
      "source": [
        "convert_tensor = tf.convert_to_tensor(np_arr)\n",
        "print(convert_tensor)"
      ],
      "metadata": {
        "colab": {
          "base_uri": "https://localhost:8080/"
        },
        "id": "tkFOYewoh7qn",
        "outputId": "6baaa7f3-2382-442a-e0be-b5c8917d34fa"
      },
      "execution_count": 11,
      "outputs": [
        {
          "output_type": "stream",
          "name": "stdout",
          "text": [
            "tf.Tensor([1 2 3], shape=(3,), dtype=int64)\n"
          ]
        }
      ]
    },
    {
      "cell_type": "code",
      "source": [
        "# tf.eye\n",
        "\n",
        "# construct an identity matrix or a batch of matrices.\n",
        "\n",
        "eye_tensor = tf.eye(\n",
        "    num_rows = 5,\n",
        "    num_columns=None,\n",
        "    batch_shape=None,\n",
        "    dtype= tf.dtypes.float32,\n",
        "    name=None\n",
        ")\n",
        "print(eye_tensor)"
      ],
      "metadata": {
        "colab": {
          "base_uri": "https://localhost:8080/"
        },
        "id": "PmTT8BXVh7s_",
        "outputId": "b9e2af4d-143c-4b9f-b94b-25426a08ba24"
      },
      "execution_count": 12,
      "outputs": [
        {
          "output_type": "stream",
          "name": "stdout",
          "text": [
            "tf.Tensor(\n",
            "[[1. 0. 0. 0. 0.]\n",
            " [0. 1. 0. 0. 0.]\n",
            " [0. 0. 1. 0. 0.]\n",
            " [0. 0. 0. 1. 0.]\n",
            " [0. 0. 0. 0. 1.]], shape=(5, 5), dtype=float32)\n"
          ]
        }
      ]
    },
    {
      "cell_type": "code",
      "source": [
        "print(eye_tensor*8)"
      ],
      "metadata": {
        "colab": {
          "base_uri": "https://localhost:8080/"
        },
        "id": "S3TDYLVSh7vt",
        "outputId": "955d608c-2346-4eb4-a12c-eaed76afba05"
      },
      "execution_count": 13,
      "outputs": [
        {
          "output_type": "stream",
          "name": "stdout",
          "text": [
            "tf.Tensor(\n",
            "[[8. 0. 0. 0. 0.]\n",
            " [0. 8. 0. 0. 0.]\n",
            " [0. 0. 8. 0. 0.]\n",
            " [0. 0. 0. 8. 0.]\n",
            " [0. 0. 0. 0. 8.]], shape=(5, 5), dtype=float32)\n"
          ]
        }
      ]
    },
    {
      "cell_type": "code",
      "source": [
        "# num_columns = None means num_rows = num_columns\n",
        "\n",
        "eye_tensor = tf.eye(\n",
        "    num_rows = 5,\n",
        "    num_columns=3,\n",
        "    batch_shape=None,\n",
        "    dtype= tf.dtypes.float32,\n",
        "    name=None\n",
        ")\n",
        "print(eye_tensor)"
      ],
      "metadata": {
        "colab": {
          "base_uri": "https://localhost:8080/"
        },
        "id": "SL52WqkgW4_c",
        "outputId": "7cde8531-2804-4635-a458-41e84eab8768"
      },
      "execution_count": 14,
      "outputs": [
        {
          "output_type": "stream",
          "name": "stdout",
          "text": [
            "tf.Tensor(\n",
            "[[1. 0. 0.]\n",
            " [0. 1. 0.]\n",
            " [0. 0. 1.]\n",
            " [0. 0. 0.]\n",
            " [0. 0. 0.]], shape=(5, 3), dtype=float32)\n"
          ]
        }
      ]
    },
    {
      "cell_type": "code",
      "source": [
        "eye_tensor = tf.eye(\n",
        "    num_rows = 5,\n",
        "    num_columns=5,\n",
        "    batch_shape=None,\n",
        "    dtype= tf.dtypes.bool,\n",
        "    name=None\n",
        ")\n",
        "print(eye_tensor)"
      ],
      "metadata": {
        "colab": {
          "base_uri": "https://localhost:8080/"
        },
        "id": "HFwEJlQoW484",
        "outputId": "3c03482e-5397-4472-bffc-858bd7a54410"
      },
      "execution_count": 15,
      "outputs": [
        {
          "output_type": "stream",
          "name": "stdout",
          "text": [
            "tf.Tensor(\n",
            "[[ True False False False False]\n",
            " [False  True False False False]\n",
            " [False False  True False False]\n",
            " [False False False  True False]\n",
            " [False False False False  True]], shape=(5, 5), dtype=bool)\n"
          ]
        }
      ]
    },
    {
      "cell_type": "code",
      "source": [
        "# change batch_shape\n",
        "\n",
        "eye_tensor = tf.eye(\n",
        "    num_rows = 5,\n",
        "    num_columns=5,\n",
        "    batch_shape=[2,], # 2  5*5 identity matrices\n",
        "    dtype= tf.dtypes.int64,\n",
        "    name=None\n",
        ")\n",
        "print(eye_tensor)"
      ],
      "metadata": {
        "colab": {
          "base_uri": "https://localhost:8080/"
        },
        "id": "kkW4TNhfW46G",
        "outputId": "cd397a89-a0aa-4fbe-c98a-ae37dd13fcd3"
      },
      "execution_count": 16,
      "outputs": [
        {
          "output_type": "stream",
          "name": "stdout",
          "text": [
            "tf.Tensor(\n",
            "[[[1 0 0 0 0]\n",
            "  [0 1 0 0 0]\n",
            "  [0 0 1 0 0]\n",
            "  [0 0 0 1 0]\n",
            "  [0 0 0 0 1]]\n",
            "\n",
            " [[1 0 0 0 0]\n",
            "  [0 1 0 0 0]\n",
            "  [0 0 1 0 0]\n",
            "  [0 0 0 1 0]\n",
            "  [0 0 0 0 1]]], shape=(2, 5, 5), dtype=int64)\n"
          ]
        }
      ]
    },
    {
      "cell_type": "code",
      "source": [
        "# tf. fill\n",
        "\n",
        "# creates a tensor filled with a scaler value\n"
      ],
      "metadata": {
        "id": "WPcEDZYlW43g"
      },
      "execution_count": 17,
      "outputs": []
    },
    {
      "cell_type": "code",
      "source": [
        "\n",
        "tensor_fill = tf.fill(\n",
        "    dims = [1,2],\n",
        "    value=5,\n",
        "    name=None\n",
        ")\n",
        "print(tensor_fill)"
      ],
      "metadata": {
        "colab": {
          "base_uri": "https://localhost:8080/"
        },
        "id": "Jg6RalkLW40t",
        "outputId": "eb06f479-ed5d-426f-d857-1b3ad7eecdd4"
      },
      "execution_count": 18,
      "outputs": [
        {
          "output_type": "stream",
          "name": "stdout",
          "text": [
            "tf.Tensor([[5 5]], shape=(1, 2), dtype=int32)\n"
          ]
        }
      ]
    },
    {
      "cell_type": "code",
      "source": [
        "\n",
        "tensor_fill = tf.fill(\n",
        "    dims = [3,3], # 2D matrix\n",
        "    value=5,\n",
        "    name=None\n",
        ")\n",
        "print(tensor_fill)"
      ],
      "metadata": {
        "colab": {
          "base_uri": "https://localhost:8080/"
        },
        "id": "lw9WZSZaW4yR",
        "outputId": "a5f9e179-f425-4507-cd57-e37772483c7a"
      },
      "execution_count": 19,
      "outputs": [
        {
          "output_type": "stream",
          "name": "stdout",
          "text": [
            "tf.Tensor(\n",
            "[[5 5 5]\n",
            " [5 5 5]\n",
            " [5 5 5]], shape=(3, 3), dtype=int32)\n"
          ]
        }
      ]
    },
    {
      "cell_type": "code",
      "source": [
        "\n",
        "tensor_fill = tf.fill(\n",
        "    dims = [3,3,3], # 3D matrix\n",
        "    value=5,\n",
        "    name=None\n",
        ")\n",
        "print(tensor_fill)"
      ],
      "metadata": {
        "colab": {
          "base_uri": "https://localhost:8080/"
        },
        "id": "f3TkTVNYW4vs",
        "outputId": "ce7cfdcc-df51-4976-ee17-520e27f1590e"
      },
      "execution_count": 20,
      "outputs": [
        {
          "output_type": "stream",
          "name": "stdout",
          "text": [
            "tf.Tensor(\n",
            "[[[5 5 5]\n",
            "  [5 5 5]\n",
            "  [5 5 5]]\n",
            "\n",
            " [[5 5 5]\n",
            "  [5 5 5]\n",
            "  [5 5 5]]\n",
            "\n",
            " [[5 5 5]\n",
            "  [5 5 5]\n",
            "  [5 5 5]]], shape=(3, 3, 3), dtype=int32)\n"
          ]
        }
      ]
    },
    {
      "cell_type": "code",
      "source": [
        "# tf. ones\n",
        "\n",
        "# Creates a tensor with all elements set to 1.\n",
        "\n"
      ],
      "metadata": {
        "id": "9cQ-4hrmW4s5"
      },
      "execution_count": 21,
      "outputs": []
    },
    {
      "cell_type": "code",
      "source": [
        "tensor_ones= tf.ones(\n",
        "    shape=[1,3],\n",
        "    dtype = tf.dtypes.float32,\n",
        "    name=None\n",
        ")\n",
        "print(tensor_ones)"
      ],
      "metadata": {
        "colab": {
          "base_uri": "https://localhost:8080/"
        },
        "id": "A5lJIQjrW4pv",
        "outputId": "eaba6492-0a6a-4727-f85b-8ec3cd296128"
      },
      "execution_count": 22,
      "outputs": [
        {
          "output_type": "stream",
          "name": "stdout",
          "text": [
            "tf.Tensor([[1. 1. 1.]], shape=(1, 3), dtype=float32)\n"
          ]
        }
      ]
    },
    {
      "cell_type": "code",
      "source": [
        "tensor_ones= tf.ones(\n",
        "    shape=[3,3],\n",
        "    dtype = tf.dtypes.int32,\n",
        "    name=None\n",
        ")\n",
        "print(tensor_ones)"
      ],
      "metadata": {
        "colab": {
          "base_uri": "https://localhost:8080/"
        },
        "id": "ZKOi0-h0W4cT",
        "outputId": "6c32ec37-c52d-4a38-d368-7e9aebf41980"
      },
      "execution_count": 23,
      "outputs": [
        {
          "output_type": "stream",
          "name": "stdout",
          "text": [
            "tf.Tensor(\n",
            "[[1 1 1]\n",
            " [1 1 1]\n",
            " [1 1 1]], shape=(3, 3), dtype=int32)\n"
          ]
        }
      ]
    },
    {
      "cell_type": "code",
      "source": [
        "tensor_ones= tf.ones(\n",
        "    shape=[5,3],\n",
        "    dtype = tf.dtypes.int32,\n",
        "    name=None\n",
        ")\n",
        "print(tensor_ones)"
      ],
      "metadata": {
        "colab": {
          "base_uri": "https://localhost:8080/"
        },
        "id": "QwcAQorOW4Zs",
        "outputId": "b01e99bc-6553-466b-d658-0dd2fd984c9a"
      },
      "execution_count": 24,
      "outputs": [
        {
          "output_type": "stream",
          "name": "stdout",
          "text": [
            "tf.Tensor(\n",
            "[[1 1 1]\n",
            " [1 1 1]\n",
            " [1 1 1]\n",
            " [1 1 1]\n",
            " [1 1 1]], shape=(5, 3), dtype=int32)\n"
          ]
        }
      ]
    },
    {
      "cell_type": "code",
      "source": [
        "tensor_ones= tf.ones(\n",
        "    shape=[5,3,2],\n",
        "    dtype = tf.dtypes.int32,\n",
        "    name=None\n",
        ")\n",
        "print(tensor_ones)"
      ],
      "metadata": {
        "colab": {
          "base_uri": "https://localhost:8080/"
        },
        "id": "-g3uLMpNW4XV",
        "outputId": "962f61e1-5902-4d7f-caf2-8f524f5cccb0"
      },
      "execution_count": 25,
      "outputs": [
        {
          "output_type": "stream",
          "name": "stdout",
          "text": [
            "tf.Tensor(\n",
            "[[[1 1]\n",
            "  [1 1]\n",
            "  [1 1]]\n",
            "\n",
            " [[1 1]\n",
            "  [1 1]\n",
            "  [1 1]]\n",
            "\n",
            " [[1 1]\n",
            "  [1 1]\n",
            "  [1 1]]\n",
            "\n",
            " [[1 1]\n",
            "  [1 1]\n",
            "  [1 1]]\n",
            "\n",
            " [[1 1]\n",
            "  [1 1]\n",
            "  [1 1]]], shape=(5, 3, 2), dtype=int32)\n"
          ]
        }
      ]
    },
    {
      "cell_type": "code",
      "source": [
        "# tf.ones_like\n",
        "\n",
        "# creates a tensor of all ones that has the same shape as input\n"
      ],
      "metadata": {
        "id": "BmN83pahW4Uy"
      },
      "execution_count": 26,
      "outputs": []
    },
    {
      "cell_type": "code",
      "source": [
        "tensor_one_like= tf.ones_like(\n",
        "    input = tensor_fill ,\n",
        "    dtype=None,\n",
        "    name=None\n",
        ")\n",
        "print(tensor_one_like)"
      ],
      "metadata": {
        "colab": {
          "base_uri": "https://localhost:8080/"
        },
        "id": "6NWqhaNtW4Sc",
        "outputId": "92dbba31-fab6-4b8a-d0e0-06bd3ea6fdc2"
      },
      "execution_count": 27,
      "outputs": [
        {
          "output_type": "stream",
          "name": "stdout",
          "text": [
            "tf.Tensor(\n",
            "[[[1 1 1]\n",
            "  [1 1 1]\n",
            "  [1 1 1]]\n",
            "\n",
            " [[1 1 1]\n",
            "  [1 1 1]\n",
            "  [1 1 1]]\n",
            "\n",
            " [[1 1 1]\n",
            "  [1 1 1]\n",
            "  [1 1 1]]], shape=(3, 3, 3), dtype=int32)\n"
          ]
        }
      ]
    },
    {
      "cell_type": "code",
      "source": [
        "# tf. zeros\n",
        "\n",
        "# creates a tensor with all elements set to 0\n"
      ],
      "metadata": {
        "id": "oSe7bHZGW4Ph"
      },
      "execution_count": 28,
      "outputs": []
    },
    {
      "cell_type": "code",
      "source": [
        "tensor_zero = tf.zeros(\n",
        "    shape = [3,2],\n",
        "    dtype = tf.dtypes.int32,\n",
        "    name=None\n",
        ")\n",
        "print(tensor_zero)\n"
      ],
      "metadata": {
        "colab": {
          "base_uri": "https://localhost:8080/"
        },
        "id": "UL13Lbf9W4NQ",
        "outputId": "de2d6eef-c24d-4736-9ab0-737edc43e435"
      },
      "execution_count": 29,
      "outputs": [
        {
          "output_type": "stream",
          "name": "stdout",
          "text": [
            "tf.Tensor(\n",
            "[[0 0]\n",
            " [0 0]\n",
            " [0 0]], shape=(3, 2), dtype=int32)\n"
          ]
        }
      ]
    },
    {
      "cell_type": "code",
      "source": [
        "tensor_zero = tf.zeros(\n",
        "    shape = [3,2,3],\n",
        "    dtype = tf.dtypes.int32,\n",
        "    name=None\n",
        ")\n",
        "print(tensor_zero)"
      ],
      "metadata": {
        "colab": {
          "base_uri": "https://localhost:8080/"
        },
        "id": "nIaI5CJzW4Kr",
        "outputId": "e2ff424a-40b1-44b0-b480-9535182c1d81"
      },
      "execution_count": 30,
      "outputs": [
        {
          "output_type": "stream",
          "name": "stdout",
          "text": [
            "tf.Tensor(\n",
            "[[[0 0 0]\n",
            "  [0 0 0]]\n",
            "\n",
            " [[0 0 0]\n",
            "  [0 0 0]]\n",
            "\n",
            " [[0 0 0]\n",
            "  [0 0 0]]], shape=(3, 2, 3), dtype=int32)\n"
          ]
        }
      ]
    },
    {
      "cell_type": "code",
      "source": [
        "# tf.shape\n",
        "\n",
        "# Returns a tensor containing the shape of the input tensor\n"
      ],
      "metadata": {
        "id": "wKz9ofZxW4Id"
      },
      "execution_count": 31,
      "outputs": []
    },
    {
      "cell_type": "code",
      "source": [
        "tensor_three_d=tf.constant([\n",
        " [[1,2,0],\n",
        " [3,5,-1]],\n",
        "\n",
        "[[4,5,6],\n",
        " [7,-8,9]],\n",
        "\n",
        "[[10,11,12],\n",
        " [13,-14,15]],\n",
        "\n",
        " [[16,17,18],\n",
        " [13,-14,15]]\n",
        "])\n",
        "print(tensor_three_d)\n",
        "\n"
      ],
      "metadata": {
        "colab": {
          "base_uri": "https://localhost:8080/"
        },
        "id": "Yx1TgbRFW4GA",
        "outputId": "dc052d8a-c527-48e6-d7f7-d365f344ca6b"
      },
      "execution_count": 32,
      "outputs": [
        {
          "output_type": "stream",
          "name": "stdout",
          "text": [
            "tf.Tensor(\n",
            "[[[  1   2   0]\n",
            "  [  3   5  -1]]\n",
            "\n",
            " [[  4   5   6]\n",
            "  [  7  -8   9]]\n",
            "\n",
            " [[ 10  11  12]\n",
            "  [ 13 -14  15]]\n",
            "\n",
            " [[ 16  17  18]\n",
            "  [ 13 -14  15]]], shape=(4, 2, 3), dtype=int32)\n"
          ]
        }
      ]
    },
    {
      "cell_type": "code",
      "source": [
        "print(tf.shape(tensor_three_d))\n"
      ],
      "metadata": {
        "colab": {
          "base_uri": "https://localhost:8080/"
        },
        "id": "2fQ-Ii2mlaa4",
        "outputId": "b1abde97-0c70-4a63-c168-77d77f5b7ea4"
      },
      "execution_count": 33,
      "outputs": [
        {
          "output_type": "stream",
          "name": "stdout",
          "text": [
            "tf.Tensor([4 2 3], shape=(3,), dtype=int32)\n"
          ]
        }
      ]
    },
    {
      "cell_type": "code",
      "source": [
        "# tf. rank\n",
        "\n",
        "# Return the rank of a tensor\n"
      ],
      "metadata": {
        "id": "gOiin5IOlaYP"
      },
      "execution_count": 34,
      "outputs": []
    },
    {
      "cell_type": "code",
      "source": [
        "# shape of tensor 't' is [2,2,3]\n",
        "\n",
        "t = tf.constant([[[1,1,1],[2,2,2]],[[3,3,3],[4,4,4]]])\n",
        "\n",
        "tf.rank(t)\n"
      ],
      "metadata": {
        "colab": {
          "base_uri": "https://localhost:8080/"
        },
        "id": "XEg11SX5laVf",
        "outputId": "61c6e9ab-2f3c-4a3b-b199-e0ac48a3ea97"
      },
      "execution_count": 35,
      "outputs": [
        {
          "output_type": "execute_result",
          "data": {
            "text/plain": [
              "<tf.Tensor: shape=(), dtype=int32, numpy=3>"
            ]
          },
          "metadata": {},
          "execution_count": 35
        }
      ]
    },
    {
      "cell_type": "code",
      "source": [
        "\n",
        "t = tf.constant([[1,1,1],[2,2,2]])\n",
        "\n",
        "tf.rank(t)\n"
      ],
      "metadata": {
        "colab": {
          "base_uri": "https://localhost:8080/"
        },
        "id": "NFp0MPValaRy",
        "outputId": "c7f781a2-6056-4d5d-c3f3-efe088d8f146"
      },
      "execution_count": 36,
      "outputs": [
        {
          "output_type": "execute_result",
          "data": {
            "text/plain": [
              "<tf.Tensor: shape=(), dtype=int32, numpy=2>"
            ]
          },
          "metadata": {},
          "execution_count": 36
        }
      ]
    },
    {
      "cell_type": "code",
      "source": [
        "# tf. size\n",
        "\n",
        "# Returns the size of  a tensor\n"
      ],
      "metadata": {
        "id": "j1yNR-hKlaPL"
      },
      "execution_count": 37,
      "outputs": []
    },
    {
      "cell_type": "code",
      "source": [
        "t = tf.constant([[[1,1,1],[2,2,2]],[[3,3,3],[4,4,4]]])\n",
        "\n",
        "\n",
        "tensor_size= tf.size(\n",
        "    input=t,\n",
        "    out_type=tf.dtypes.int32,\n",
        "    name=None\n",
        ")\n",
        "\n",
        "print(tensor_size) # 12 elements"
      ],
      "metadata": {
        "colab": {
          "base_uri": "https://localhost:8080/"
        },
        "id": "Jc8ZKSyAlaMS",
        "outputId": "9cc5e6db-d366-41cc-b6e9-c961da6944b5"
      },
      "execution_count": 38,
      "outputs": [
        {
          "output_type": "stream",
          "name": "stdout",
          "text": [
            "tf.Tensor(12, shape=(), dtype=int32)\n"
          ]
        }
      ]
    },
    {
      "cell_type": "code",
      "source": [
        "t = tf.constant([[1,1,1],[2,2,2]])\n",
        "\n",
        "\n",
        "tensor_size= tf.size(\n",
        "    input=t,\n",
        "    out_type=tf.dtypes.int32,\n",
        "    name=None\n",
        ")\n",
        "\n",
        "print(tensor_size) # 6 elements"
      ],
      "metadata": {
        "colab": {
          "base_uri": "https://localhost:8080/"
        },
        "id": "w7E1Rx3plaJq",
        "outputId": "435c358f-7757-42fe-d6a8-e6a9b2118e86"
      },
      "execution_count": 39,
      "outputs": [
        {
          "output_type": "stream",
          "name": "stdout",
          "text": [
            "tf.Tensor(6, shape=(), dtype=int32)\n"
          ]
        }
      ]
    },
    {
      "cell_type": "code",
      "source": [
        "# tf.random.normal\n",
        "\n",
        "# Outputs random values from a normal distribution\n",
        "\n"
      ],
      "metadata": {
        "id": "zLXG3GoMlaG_"
      },
      "execution_count": 40,
      "outputs": []
    },
    {
      "cell_type": "code",
      "source": [
        "tensor_normal = tf.random.normal(\n",
        "    shape =[3,4],\n",
        "    mean = 0.0,\n",
        "    stddev=1.0,\n",
        "    dtype = tf.dtypes.float32,\n",
        "    seed=None,\n",
        "    name=None\n",
        ")\n",
        "\n",
        "print(tensor_normal)"
      ],
      "metadata": {
        "colab": {
          "base_uri": "https://localhost:8080/"
        },
        "id": "xGpRTELWlaEV",
        "outputId": "088281f5-08b3-4e07-c820-aefb3e628afa"
      },
      "execution_count": 41,
      "outputs": [
        {
          "output_type": "stream",
          "name": "stdout",
          "text": [
            "tf.Tensor(\n",
            "[[-0.69508284  0.29647443 -1.8256868  -0.5174599 ]\n",
            " [-0.82659656  0.6598522   1.1472871   0.7347902 ]\n",
            " [ 1.9119201   0.34458348 -1.1466113   0.09250392]], shape=(3, 4), dtype=float32)\n"
          ]
        }
      ]
    },
    {
      "cell_type": "code",
      "source": [
        "# change the mean\n",
        "\n",
        "tensor_normal = tf.random.normal(\n",
        "    shape =[3,4],\n",
        "    mean = 100.0,\n",
        "    stddev=1.0,\n",
        "    dtype = tf.dtypes.float32,\n",
        "    seed=None,\n",
        "    name=None\n",
        ")\n",
        "\n",
        "print(tensor_normal)"
      ],
      "metadata": {
        "colab": {
          "base_uri": "https://localhost:8080/"
        },
        "id": "fFZ5IcEhlZ-c",
        "outputId": "c134245a-ec18-4274-fe1e-7723a06b60df"
      },
      "execution_count": 42,
      "outputs": [
        {
          "output_type": "stream",
          "name": "stdout",
          "text": [
            "tf.Tensor(\n",
            "[[100.83498  100.60084   99.615204 100.14299 ]\n",
            " [101.519325 100.77097   99.24902   98.68998 ]\n",
            " [102.00322  100.02967  101.23886  100.61433 ]], shape=(3, 4), dtype=float32)\n"
          ]
        }
      ]
    },
    {
      "cell_type": "code",
      "source": [
        "# change the mean and standard deviation\n",
        "\n",
        "\n",
        "tensor_normal = tf.random.normal(\n",
        "    shape =[3,4],\n",
        "    mean = 100.0,\n",
        "    stddev=5.0,\n",
        "    dtype = tf.dtypes.float32,\n",
        "    seed=None,\n",
        "    name=None\n",
        ")\n",
        "\n",
        "print(tensor_normal)"
      ],
      "metadata": {
        "id": "kuJQzy6qlZ8C",
        "colab": {
          "base_uri": "https://localhost:8080/"
        },
        "outputId": "57c0ae7a-0c41-4698-9686-7134fa8c4129"
      },
      "execution_count": 44,
      "outputs": [
        {
          "output_type": "stream",
          "name": "stdout",
          "text": [
            "tf.Tensor(\n",
            "[[ 92.134445  95.13879   97.6855   101.3835  ]\n",
            " [ 95.70464   96.77932   92.23961   98.58325 ]\n",
            " [109.467575  98.04249   92.71533  104.73253 ]], shape=(3, 4), dtype=float32)\n"
          ]
        }
      ]
    },
    {
      "cell_type": "code",
      "source": [
        "\n",
        "\n",
        "tensor_normal = tf.random.normal(\n",
        "    shape =[3,4],\n",
        "    mean = -100.0,\n",
        "    stddev=-5.0,\n",
        "    dtype = tf.dtypes.float32,\n",
        "    seed=None,\n",
        "    name=None\n",
        ")\n",
        "\n",
        "print(tensor_normal)"
      ],
      "metadata": {
        "id": "OmMWKOIXh7y9",
        "colab": {
          "base_uri": "https://localhost:8080/"
        },
        "outputId": "efc8b3e8-dfcc-42a6-9e3e-977f0209598f"
      },
      "execution_count": 45,
      "outputs": [
        {
          "output_type": "stream",
          "name": "stdout",
          "text": [
            "tf.Tensor(\n",
            "[[-107.744606 -102.70503   -93.524704  -93.60624 ]\n",
            " [-107.94829   -97.87954   -98.99679   -92.19858 ]\n",
            " [ -90.59363   -98.92517  -106.8613   -103.81096 ]], shape=(3, 4), dtype=float32)\n"
          ]
        }
      ]
    },
    {
      "cell_type": "code",
      "source": [
        "# tf. random. uniform\n",
        "\n",
        "# Outputs random values from a uniform distribution\n",
        "\n"
      ],
      "metadata": {
        "id": "rUvpX7voW_Y7"
      },
      "execution_count": null,
      "outputs": []
    },
    {
      "cell_type": "code",
      "source": [
        "tensor_uniform = tf.random.uniform(\n",
        "    shape=[4,3],\n",
        "    minval=0,\n",
        "    maxval=None,\n",
        "    dtype = tf.dtypes.float32,\n",
        "    seed=None,\n",
        "    name=None\n",
        "\n",
        ")\n",
        "print(tensor_uniform)"
      ],
      "metadata": {
        "colab": {
          "base_uri": "https://localhost:8080/"
        },
        "id": "epmopAN1W_XU",
        "outputId": "efd3e060-bf86-4008-8df4-40892bf067e5"
      },
      "execution_count": 48,
      "outputs": [
        {
          "output_type": "stream",
          "name": "stdout",
          "text": [
            "tf.Tensor(\n",
            "[[0.99079716 0.9738599  0.2213571 ]\n",
            " [0.08549404 0.29843342 0.11610544]\n",
            " [0.36522496 0.47726297 0.8124505 ]\n",
            " [0.94018126 0.9500427  0.6179464 ]], shape=(4, 3), dtype=float32)\n"
          ]
        }
      ]
    },
    {
      "cell_type": "code",
      "source": [
        "#change max and min value\n",
        "# max = 1 default value and min=0 default value\n",
        "\n",
        "tensor_uniform = tf.random.uniform(\n",
        "    shape=[4,3],\n",
        "    minval=-1,\n",
        "    maxval=10,\n",
        "    dtype = tf.dtypes.float32,\n",
        "    seed=None,\n",
        "    name=None\n",
        "\n",
        ")\n",
        "print(tensor_uniform)"
      ],
      "metadata": {
        "colab": {
          "base_uri": "https://localhost:8080/"
        },
        "id": "BI-m8xv5W_Ty",
        "outputId": "bab338fd-ed58-4fba-b099-88ff19727fa6"
      },
      "execution_count": 49,
      "outputs": [
        {
          "output_type": "stream",
          "name": "stdout",
          "text": [
            "tf.Tensor(\n",
            "[[ 6.5566425   1.2838387   3.8128595 ]\n",
            " [ 8.808012    9.775817    7.4145308 ]\n",
            " [ 2.0338955   6.4800587  -0.39369845]\n",
            " [ 0.9045812   3.430077    5.54754   ]], shape=(4, 3), dtype=float32)\n"
          ]
        }
      ]
    },
    {
      "cell_type": "code",
      "source": [
        "# set a value of seed to get same out put each time when we run code\n",
        "\n",
        "tf.random.set_seed(10)\n",
        "tensor_uniform = tf.random.uniform(\n",
        "    shape=[4,3],\n",
        "    minval=-1,\n",
        "    maxval=10,\n",
        "    dtype = tf.dtypes.float32,\n",
        "    seed=10,\n",
        "    name=None\n",
        "\n",
        ")\n",
        "print(tensor_uniform)"
      ],
      "metadata": {
        "colab": {
          "base_uri": "https://localhost:8080/"
        },
        "id": "XDbStifDW_RI",
        "outputId": "902b4efe-fc31-4526-aba0-226856b02a17"
      },
      "execution_count": 59,
      "outputs": [
        {
          "output_type": "stream",
          "name": "stdout",
          "text": [
            "tf.Tensor(\n",
            "[[9.5322    8.4432125 5.812717 ]\n",
            " [1.4109325 2.473528  6.701801 ]\n",
            " [0.4933083 8.925728  5.362786 ]\n",
            " [7.9165754 1.4701917 5.7715526]], shape=(4, 3), dtype=float32)\n"
          ]
        }
      ]
    }
  ]
}