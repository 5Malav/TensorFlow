{
  "nbformat": 4,
  "nbformat_minor": 0,
  "metadata": {
    "colab": {
      "provenance": []
    },
    "kernelspec": {
      "name": "python3",
      "display_name": "Python 3"
    },
    "language_info": {
      "name": "python"
    }
  },
  "cells": [
    {
      "cell_type": "markdown",
      "source": [
        "# Tensor :- Tensors are Multi Dimensional Arrays\n",
        "\n",
        "An Array is an ordered arrangement of numbers\n"
      ],
      "metadata": {
        "id": "zOyRu0WQend0"
      }
    },
    {
      "cell_type": "code",
      "execution_count": 1,
      "metadata": {
        "id": "VSWnatTFcDEB"
      },
      "outputs": [],
      "source": [
        "import tensorflow as tf"
      ]
    },
    {
      "cell_type": "code",
      "source": [
        "tensor_zero_d = tf.constant(4)\n",
        "print(tensor_zero_d)\n",
        "\n",
        "#tensor with value 4 with no shape"
      ],
      "metadata": {
        "colab": {
          "base_uri": "https://localhost:8080/"
        },
        "id": "Ox1qRIhAcDmH",
        "outputId": "3657b5f0-808e-4671-af9d-2db5a18368f4"
      },
      "execution_count": 3,
      "outputs": [
        {
          "output_type": "stream",
          "name": "stdout",
          "text": [
            "tf.Tensor(4, shape=(), dtype=int32)\n"
          ]
        }
      ]
    },
    {
      "cell_type": "code",
      "source": [
        "tensor_one_d = tf.constant([2,0,-3])\n",
        "print(tensor_one_d)\n",
        "\n",
        "#tensor with 3 values . 1D tensor all integer values"
      ],
      "metadata": {
        "colab": {
          "base_uri": "https://localhost:8080/"
        },
        "id": "7iNfKO33cNXR",
        "outputId": "1bc282f6-a36e-4d68-aa5f-9241b7b55640"
      },
      "execution_count": 4,
      "outputs": [
        {
          "output_type": "stream",
          "name": "stdout",
          "text": [
            "tf.Tensor([ 2  0 -3], shape=(3,), dtype=int32)\n"
          ]
        }
      ]
    },
    {
      "cell_type": "code",
      "source": [
        "tensor_one_d_float = tf.constant([2,0,-3,0.8])\n",
        "print(tensor_one_d_float)\n",
        "\n",
        "# 1D tensor with type float"
      ],
      "metadata": {
        "colab": {
          "base_uri": "https://localhost:8080/"
        },
        "id": "b6H0Q4zRcNaM",
        "outputId": "fe8ad160-f30c-412c-9533-fca1634b7ebe"
      },
      "execution_count": 8,
      "outputs": [
        {
          "output_type": "stream",
          "name": "stdout",
          "text": [
            "tf.Tensor([ 2.   0.  -3.   0.8], shape=(4,), dtype=float32)\n"
          ]
        }
      ]
    },
    {
      "cell_type": "code",
      "source": [
        "tensor_two_d = tf.constant([\n",
        "    [1,2,3],\n",
        "    [4,5,6]\n",
        "    ])\n",
        "print(tensor_two_d)"
      ],
      "metadata": {
        "colab": {
          "base_uri": "https://localhost:8080/"
        },
        "id": "VRUl9DRccNci",
        "outputId": "a2b0b449-5151-485c-b197-933357719c41"
      },
      "execution_count": 11,
      "outputs": [
        {
          "output_type": "stream",
          "name": "stdout",
          "text": [
            "tf.Tensor(\n",
            "[[1 2 3]\n",
            " [4 5 6]], shape=(2, 3), dtype=int32)\n"
          ]
        }
      ]
    },
    {
      "cell_type": "code",
      "source": [
        "tensor_three_d=tf.constant([\n",
        " [[1,2,0],\n",
        " [3,5,-1]],\n",
        "\n",
        "[[4,5,6],\n",
        " [7,-8,9]],\n",
        "\n",
        "[[10,11,12],\n",
        " [13,-14,15]],\n",
        "\n",
        " [[16,17,18],\n",
        " [13,-14,15]]\n",
        "])\n",
        "print(tensor_three_d)"
      ],
      "metadata": {
        "colab": {
          "base_uri": "https://localhost:8080/"
        },
        "id": "skTjNu-ocNfK",
        "outputId": "5dfa04d0-d376-4361-da6d-de8aa2d845c1"
      },
      "execution_count": 16,
      "outputs": [
        {
          "output_type": "stream",
          "name": "stdout",
          "text": [
            "tf.Tensor(\n",
            "[[[  1   2   0]\n",
            "  [  3   5  -1]]\n",
            "\n",
            " [[  4   5   6]\n",
            "  [  7  -8   9]]\n",
            "\n",
            " [[ 10  11  12]\n",
            "  [ 13 -14  15]]\n",
            "\n",
            " [[ 16  17  18]\n",
            "  [ 13 -14  15]]], shape=(4, 2, 3), dtype=int32)\n"
          ]
        }
      ]
    },
    {
      "cell_type": "code",
      "source": [
        "print(tensor_three_d.shape)"
      ],
      "metadata": {
        "colab": {
          "base_uri": "https://localhost:8080/"
        },
        "id": "zqyC23XkcNhz",
        "outputId": "7245183a-ddcf-46e0-aa24-c34cd84c7089"
      },
      "execution_count": 17,
      "outputs": [
        {
          "output_type": "stream",
          "name": "stdout",
          "text": [
            "(4, 2, 3)\n"
          ]
        }
      ]
    },
    {
      "cell_type": "code",
      "source": [
        "tensor_four_d = tf.constant([\n",
        "[\n",
        " [[1,2,0],\n",
        " [3,5,-1]],\n",
        "\n",
        "[[4,5,6],\n",
        " [7,-8,9]],\n",
        "\n",
        "[[10,11,12],\n",
        " [13,-14,15]],\n",
        "\n",
        " [[16,17,18],\n",
        " [13,-14,15]]\n",
        "],\n",
        "[\n",
        " [[10,20,0],\n",
        " [3,5,-1]],\n",
        "\n",
        "[[40,50,60],\n",
        " [7,-8,9]],\n",
        "\n",
        "[[10,11,12],\n",
        " [13,-14,15]],\n",
        "\n",
        " [[16,17,18],\n",
        " [13,-14,15]]\n",
        "],\n",
        "\n",
        "[\n",
        " [[100,200,0],\n",
        " [3,5,-100]],\n",
        "\n",
        "[[40,50,60],\n",
        " [7,-8,9]],\n",
        "\n",
        "[[10,11,12],\n",
        " [13,-14,15]],\n",
        "\n",
        " [[16,17,18],\n",
        " [13,-14,15]]\n",
        "]])\n",
        "\n",
        "print(tensor_four_d)"
      ],
      "metadata": {
        "colab": {
          "base_uri": "https://localhost:8080/"
        },
        "id": "fN2iw0tlcNk3",
        "outputId": "37700c49-0eae-4f12-8f0e-42458d8d3d92"
      },
      "execution_count": 22,
      "outputs": [
        {
          "output_type": "stream",
          "name": "stdout",
          "text": [
            "tf.Tensor(\n",
            "[[[[   1    2    0]\n",
            "   [   3    5   -1]]\n",
            "\n",
            "  [[   4    5    6]\n",
            "   [   7   -8    9]]\n",
            "\n",
            "  [[  10   11   12]\n",
            "   [  13  -14   15]]\n",
            "\n",
            "  [[  16   17   18]\n",
            "   [  13  -14   15]]]\n",
            "\n",
            "\n",
            " [[[  10   20    0]\n",
            "   [   3    5   -1]]\n",
            "\n",
            "  [[  40   50   60]\n",
            "   [   7   -8    9]]\n",
            "\n",
            "  [[  10   11   12]\n",
            "   [  13  -14   15]]\n",
            "\n",
            "  [[  16   17   18]\n",
            "   [  13  -14   15]]]\n",
            "\n",
            "\n",
            " [[[ 100  200    0]\n",
            "   [   3    5 -100]]\n",
            "\n",
            "  [[  40   50   60]\n",
            "   [   7   -8    9]]\n",
            "\n",
            "  [[  10   11   12]\n",
            "   [  13  -14   15]]\n",
            "\n",
            "  [[  16   17   18]\n",
            "   [  13  -14   15]]]], shape=(3, 4, 2, 3), dtype=int32)\n"
          ]
        }
      ]
    }
  ]
}