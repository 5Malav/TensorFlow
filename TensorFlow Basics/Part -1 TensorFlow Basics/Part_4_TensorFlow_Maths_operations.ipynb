{
  "nbformat": 4,
  "nbformat_minor": 0,
  "metadata": {
    "colab": {
      "provenance": []
    },
    "kernelspec": {
      "name": "python3",
      "display_name": "Python 3"
    },
    "language_info": {
      "name": "python"
    }
  },
  "cells": [
    {
      "cell_type": "code",
      "execution_count": 2,
      "metadata": {
        "id": "7iJxvtpL1-Rq"
      },
      "outputs": [],
      "source": [
        "import tensorflow as tf"
      ]
    },
    {
      "cell_type": "code",
      "source": [
        "#tf. math. abs\n",
        "\n",
        "# Computes the absolute value of a tensor\n",
        "# if input is <0 it converts to positive value"
      ],
      "metadata": {
        "id": "GGveeM3P1-8l"
      },
      "execution_count": 3,
      "outputs": []
    },
    {
      "cell_type": "code",
      "source": [
        "x = tf.constant(-0.2)\n",
        "tensor_absolute = tf.math.abs(\n",
        "    x,\n",
        "    name=None\n",
        ")\n",
        "print(tensor_absolute)"
      ],
      "metadata": {
        "colab": {
          "base_uri": "https://localhost:8080/"
        },
        "id": "vylpqRDV1-_Q",
        "outputId": "599065aa-8835-4484-bee9-96bbc6b9fdf1"
      },
      "execution_count": 4,
      "outputs": [
        {
          "output_type": "stream",
          "name": "stdout",
          "text": [
            "tf.Tensor(0.2, shape=(), dtype=float32)\n"
          ]
        }
      ]
    },
    {
      "cell_type": "code",
      "source": [
        "x = tf.constant([2,-1,-0.2,3])\n",
        "tensor_absolute = tf.math.abs(\n",
        "    x,\n",
        "    name=None\n",
        ")\n",
        "print(tensor_absolute)"
      ],
      "metadata": {
        "colab": {
          "base_uri": "https://localhost:8080/"
        },
        "id": "-scmc8Xf1_CE",
        "outputId": "a2046ba9-3fb8-4e1a-eb42-76ad928bbb5b"
      },
      "execution_count": 5,
      "outputs": [
        {
          "output_type": "stream",
          "name": "stdout",
          "text": [
            "tf.Tensor([2.  1.  0.2 3. ], shape=(4,), dtype=float32)\n"
          ]
        }
      ]
    },
    {
      "cell_type": "code",
      "source": [
        "# complex number\n",
        "# absolute value of complex number\n",
        "# a+bj is sqrt(a^2+b^2)\n",
        "\n",
        "x = tf.constant([[-5.5+8j],[-9.9+13j]])\n",
        "tensor_absolute = tf.math.abs(\n",
        "    x,\n",
        "    name=None\n",
        ")\n",
        "print(tensor_absolute)"
      ],
      "metadata": {
        "colab": {
          "base_uri": "https://localhost:8080/"
        },
        "id": "jfIasoVn1_Ep",
        "outputId": "6bd88279-fe5a-4057-cfec-66fba836276f"
      },
      "execution_count": 6,
      "outputs": [
        {
          "output_type": "stream",
          "name": "stdout",
          "text": [
            "tf.Tensor(\n",
            "[[ 9.70824392]\n",
            " [16.34044063]], shape=(2, 1), dtype=float64)\n"
          ]
        }
      ]
    },
    {
      "cell_type": "code",
      "source": [
        "# tf. math. add\n",
        "\n",
        "# Returns x +y element - wise\n",
        "\n"
      ],
      "metadata": {
        "id": "_th7G_A41_HW"
      },
      "execution_count": 7,
      "outputs": []
    },
    {
      "cell_type": "code",
      "source": [
        "x = tf.constant([2,5,8])\n",
        "y = tf.constant([1,6,9])\n",
        "\n",
        "tensor_add=tf.add(x,y)\n",
        "print(tensor_add)\n",
        "\n"
      ],
      "metadata": {
        "colab": {
          "base_uri": "https://localhost:8080/"
        },
        "id": "i5EMAWlErLs_",
        "outputId": "a16a045c-7961-450b-f770-4b561b0a3100"
      },
      "execution_count": 8,
      "outputs": [
        {
          "output_type": "stream",
          "name": "stdout",
          "text": [
            "tf.Tensor([ 3 11 17], shape=(3,), dtype=int32)\n"
          ]
        }
      ]
    },
    {
      "cell_type": "code",
      "source": [
        "x = tf.constant([[2,5,8],[4,10,16]])\n",
        "y = tf.constant([[1,6,9],[2,12,18]])\n",
        "\n",
        "tensor_add=tf.add(x,y)\n",
        "print(tensor_add)\n"
      ],
      "metadata": {
        "colab": {
          "base_uri": "https://localhost:8080/"
        },
        "id": "5qExRbkbrLqV",
        "outputId": "61b217d5-bc37-45c2-f949-55e062e8d283"
      },
      "execution_count": 9,
      "outputs": [
        {
          "output_type": "stream",
          "name": "stdout",
          "text": [
            "tf.Tensor(\n",
            "[[ 3 11 17]\n",
            " [ 6 22 34]], shape=(2, 3), dtype=int32)\n"
          ]
        }
      ]
    },
    {
      "cell_type": "code",
      "source": [
        "x = tf.constant([[2,5,8],[4,10,16]])\n",
        "y = tf.constant(1)\n",
        "\n",
        "tensor_add=tf.add(x,y)\n",
        "print(tensor_add)"
      ],
      "metadata": {
        "colab": {
          "base_uri": "https://localhost:8080/"
        },
        "id": "JOi6OspCrLnq",
        "outputId": "b8d45187-8417-4c7f-aad1-10f0fb73fb49"
      },
      "execution_count": 10,
      "outputs": [
        {
          "output_type": "stream",
          "name": "stdout",
          "text": [
            "tf.Tensor(\n",
            "[[ 3  6  9]\n",
            " [ 5 11 17]], shape=(2, 3), dtype=int32)\n"
          ]
        }
      ]
    },
    {
      "cell_type": "code",
      "source": [
        "# tf. math. divide_no_nan\n",
        "\n",
        "# Computes a safe divide which return 0 if y(denominator) is zero\n",
        "\n"
      ],
      "metadata": {
        "id": "xwwx7LTXrLlD"
      },
      "execution_count": 11,
      "outputs": []
    },
    {
      "cell_type": "code",
      "source": [
        "x = tf.constant([2,5,8])\n",
        "y = tf.constant(0)\n",
        "\n",
        "\n",
        "tensor_divide = tf.math.divide_no_nan(\n",
        "    x,\n",
        "    y,\n",
        "    name=None\n",
        ")\n",
        "print(tensor_divide)\n"
      ],
      "metadata": {
        "colab": {
          "base_uri": "https://localhost:8080/"
        },
        "id": "7g5lTwM7rLiN",
        "outputId": "1ea8d0ee-efef-4d99-c5af-838c5d1340a0"
      },
      "execution_count": 12,
      "outputs": [
        {
          "output_type": "stream",
          "name": "stdout",
          "text": [
            "tf.Tensor([0. 0. 0.], shape=(3,), dtype=float64)\n"
          ]
        }
      ]
    },
    {
      "cell_type": "code",
      "source": [
        "x = tf.constant([2,5,8])\n",
        "y = tf.constant([1,2,10])\n",
        "\n",
        "\n",
        "tensor_divide = tf.math.divide_no_nan(\n",
        "    x,\n",
        "    y,\n",
        "    name=None\n",
        ")\n",
        "print(tensor_divide)"
      ],
      "metadata": {
        "colab": {
          "base_uri": "https://localhost:8080/"
        },
        "id": "F9lQ8ohnrLga",
        "outputId": "e7c423de-93f6-4a07-ac4a-83b10f18dd14"
      },
      "execution_count": 13,
      "outputs": [
        {
          "output_type": "stream",
          "name": "stdout",
          "text": [
            "tf.Tensor([2.  2.5 0.8], shape=(3,), dtype=float64)\n"
          ]
        }
      ]
    },
    {
      "cell_type": "code",
      "source": [
        "# tf. math.mutiply\n",
        "# element wise operation\n",
        "\n",
        "x = tf.constant([2,3,4,5])\n",
        "\n",
        "y = tf.constant([[1],[3]])\n",
        "print(tf.math.multiply(x,y))\n"
      ],
      "metadata": {
        "colab": {
          "base_uri": "https://localhost:8080/"
        },
        "id": "oXbtOyYKrLdm",
        "outputId": "ff4574d0-2f90-41ce-d824-bbd3527ad4a4"
      },
      "execution_count": 14,
      "outputs": [
        {
          "output_type": "stream",
          "name": "stdout",
          "text": [
            "tf.Tensor(\n",
            "[[ 2  3  4  5]\n",
            " [ 6  9 12 15]], shape=(2, 4), dtype=int32)\n"
          ]
        }
      ]
    },
    {
      "cell_type": "code",
      "source": [
        "# tf. math. maximum\n",
        "\n",
        "# Return the max of x and y(i.e x> y ? x:y) element wise\n",
        "\n"
      ],
      "metadata": {
        "id": "RSjL90ZvrLXo"
      },
      "execution_count": 15,
      "outputs": []
    },
    {
      "cell_type": "code",
      "source": [
        "\n",
        "x = tf.constant([2,3,4,5])\n",
        "\n",
        "y = tf.constant([5,6,1,2])\n",
        "\n",
        "tensor_max = tf.math.maximum(\n",
        "    x,y\n",
        ")\n",
        "print(tensor_max)"
      ],
      "metadata": {
        "colab": {
          "base_uri": "https://localhost:8080/"
        },
        "id": "YhvnG5Dw1_Jp",
        "outputId": "b0792131-6da8-4f08-c642-3654d2c4173e"
      },
      "execution_count": 16,
      "outputs": [
        {
          "output_type": "stream",
          "name": "stdout",
          "text": [
            "tf.Tensor([5 6 4 5], shape=(4,), dtype=int32)\n"
          ]
        }
      ]
    },
    {
      "cell_type": "code",
      "source": [
        "\n",
        "x = tf.constant([1,0.2,0.3,0.4])\n",
        "\n",
        "y = tf.constant([-5.])\n",
        "\n",
        "tensor_max = tf.math.maximum(\n",
        "    x,y\n",
        ")\n",
        "print(tensor_max)"
      ],
      "metadata": {
        "colab": {
          "base_uri": "https://localhost:8080/"
        },
        "id": "tNoJEp3-1_MN",
        "outputId": "9b602746-1fcc-4fe0-905a-71446a5aec44"
      },
      "execution_count": 17,
      "outputs": [
        {
          "output_type": "stream",
          "name": "stdout",
          "text": [
            "tf.Tensor([1.  0.2 0.3 0.4], shape=(4,), dtype=float32)\n"
          ]
        }
      ]
    },
    {
      "cell_type": "code",
      "source": [
        "# tf. math. minimum\n",
        "\n",
        "# Return the max of x and y(i.e x< y ? x:y) element wise\n",
        "\n"
      ],
      "metadata": {
        "id": "VARs5Ne22IXN"
      },
      "execution_count": 18,
      "outputs": []
    },
    {
      "cell_type": "code",
      "source": [
        "\n",
        "x = tf.constant([1,0.2,0.3,0.4])\n",
        "\n",
        "y = tf.constant([-5.])\n",
        "\n",
        "tensor_max = tf.math.minimum(\n",
        "    x,y\n",
        ")\n",
        "print(tensor_max)"
      ],
      "metadata": {
        "colab": {
          "base_uri": "https://localhost:8080/"
        },
        "outputId": "f740fd82-2126-48ae-990a-346bf7abb50c",
        "id": "fDC-Dl4C6Vnz"
      },
      "execution_count": 19,
      "outputs": [
        {
          "output_type": "stream",
          "name": "stdout",
          "text": [
            "tf.Tensor([-5. -5. -5. -5.], shape=(4,), dtype=float32)\n"
          ]
        }
      ]
    },
    {
      "cell_type": "code",
      "source": [
        "# tf. math. argmax\n",
        "\n",
        "# Returns the index with the largest value across axes of a tensor\n",
        "\n"
      ],
      "metadata": {
        "id": "DEVpEwmx2ISK"
      },
      "execution_count": 20,
      "outputs": []
    },
    {
      "cell_type": "code",
      "source": [
        "x = tf.constant([2,20,30,3,6])\n",
        "\n",
        "tensor_argmax = tf.math.argmax(\n",
        "    input=x,\n",
        "    axis=None,\n",
        "    output_type=tf.dtypes.int64,\n",
        "    name=None\n",
        ")\n",
        "print(tensor_argmax)\n",
        "\n",
        "\n",
        "# 30 is the highest number. output will have index.\n",
        "\n"
      ],
      "metadata": {
        "colab": {
          "base_uri": "https://localhost:8080/"
        },
        "id": "dYMte4YE2IPA",
        "outputId": "010ff3e2-5ce1-4332-ccb2-47e14764f4e6"
      },
      "execution_count": 21,
      "outputs": [
        {
          "output_type": "stream",
          "name": "stdout",
          "text": [
            "tf.Tensor(2, shape=(), dtype=int64)\n"
          ]
        }
      ]
    },
    {
      "cell_type": "code",
      "source": [
        "x = tf.constant([[5,20,30,3,6],\n",
        "                [3,7,8,10,12],\n",
        "                 [15,0,-1,3,4],\n",
        "                [17,19,1,2,3]]\n",
        "              )\n",
        "print(x)\n",
        "\n",
        "print(\" \")\n",
        "\n",
        "tensor_argmax = tf.math.argmax(\n",
        "    input=x,\n",
        "    axis=0,\n",
        "    output_type=tf.dtypes.int64,\n",
        "    name=None\n",
        ")\n",
        "\n",
        "print(tensor_argmax)\n",
        "# will print index of max number from each column\n"
      ],
      "metadata": {
        "colab": {
          "base_uri": "https://localhost:8080/"
        },
        "id": "hw1kevlQoxA8",
        "outputId": "73364049-f8d0-4513-f249-046413c87892"
      },
      "execution_count": 22,
      "outputs": [
        {
          "output_type": "stream",
          "name": "stdout",
          "text": [
            "tf.Tensor(\n",
            "[[ 5 20 30  3  6]\n",
            " [ 3  7  8 10 12]\n",
            " [15  0 -1  3  4]\n",
            " [17 19  1  2  3]], shape=(4, 5), dtype=int32)\n",
            " \n",
            "tf.Tensor([3 0 0 1 1], shape=(5,), dtype=int64)\n"
          ]
        }
      ]
    },
    {
      "cell_type": "code",
      "source": [
        "print(x)\n",
        "\n",
        "print(\" \")\n",
        "tensor_argmax = tf.math.argmax(\n",
        "    input=x,\n",
        "    axis=1,\n",
        "    output_type=tf.dtypes.int64,\n",
        "    name=None\n",
        ")\n",
        "\n",
        "print(tensor_argmax)\n",
        "# will print index of max number from each row.\n"
      ],
      "metadata": {
        "colab": {
          "base_uri": "https://localhost:8080/"
        },
        "id": "cGkO-ZaNr3hg",
        "outputId": "4bea680e-e9e8-4d94-d25f-41fb6d731551"
      },
      "execution_count": 23,
      "outputs": [
        {
          "output_type": "stream",
          "name": "stdout",
          "text": [
            "tf.Tensor(\n",
            "[[ 5 20 30  3  6]\n",
            " [ 3  7  8 10 12]\n",
            " [15  0 -1  3  4]\n",
            " [17 19  1  2  3]], shape=(4, 5), dtype=int32)\n",
            " \n",
            "tf.Tensor([2 4 0 1], shape=(4,), dtype=int64)\n"
          ]
        }
      ]
    },
    {
      "cell_type": "code",
      "source": [
        "# tf. math. argin\n",
        "\n",
        "# Returns the index with the smallest value across axes of a tensor\n",
        "\n"
      ],
      "metadata": {
        "id": "3Hs-zfe92IMI"
      },
      "execution_count": 24,
      "outputs": []
    },
    {
      "cell_type": "code",
      "source": [
        "x = tf.constant([5,20,30,3,6])\n",
        "\n",
        "tensor_argmin = tf.math.argmin(\n",
        "    input=x,\n",
        "    axis=None,\n",
        "    output_type=tf.dtypes.int64,\n",
        "    name=None\n",
        ")\n",
        "\n",
        "print(tensor_argmax)\n"
      ],
      "metadata": {
        "colab": {
          "base_uri": "https://localhost:8080/"
        },
        "id": "lnVSLfXc2IJd",
        "outputId": "507ea864-2528-4251-a1a9-d8f25499be59"
      },
      "execution_count": 25,
      "outputs": [
        {
          "output_type": "stream",
          "name": "stdout",
          "text": [
            "tf.Tensor([2 4 0 1], shape=(4,), dtype=int64)\n"
          ]
        }
      ]
    },
    {
      "cell_type": "code",
      "source": [
        "x = tf.constant([[5,20,30,3,6],\n",
        "                [3,7,8,10,12],\n",
        "                 [15,0,-1,3,4],\n",
        "                [17,19,1,2,3]]\n",
        "              )\n",
        "print(x)\n",
        "\n",
        "print(\" \")\n",
        "\n",
        "tensor_argmin = tf.math.argmin(\n",
        "    input=x,\n",
        "    axis=1,\n",
        "    output_type=tf.dtypes.int64,\n",
        "    name=None\n",
        ")\n",
        "print(tensor_argmax)\n",
        "# will print index of max number from each column\n"
      ],
      "metadata": {
        "colab": {
          "base_uri": "https://localhost:8080/"
        },
        "id": "MUwI2-Js2Huf",
        "outputId": "63f68ed6-f3bb-4c8f-d2f6-91c4431e3502"
      },
      "execution_count": 26,
      "outputs": [
        {
          "output_type": "stream",
          "name": "stdout",
          "text": [
            "tf.Tensor(\n",
            "[[ 5 20 30  3  6]\n",
            " [ 3  7  8 10 12]\n",
            " [15  0 -1  3  4]\n",
            " [17 19  1  2  3]], shape=(4, 5), dtype=int32)\n",
            " \n",
            "tf.Tensor([2 4 0 1], shape=(4,), dtype=int64)\n"
          ]
        }
      ]
    },
    {
      "cell_type": "code",
      "source": [
        "x = tf.constant([[5,20,30,3,6],\n",
        "                [3,7,8,10,12],\n",
        "                 [15,0,-1,3,4],\n",
        "                [17,19,1,2,3]]\n",
        "              )\n",
        "print(x)\n",
        "\n",
        "print(\" \")\n",
        "\n",
        "tensor_argmin = tf.math.argmin(\n",
        "    input=x,\n",
        "    axis=0,\n",
        "    output_type=tf.dtypes.int64,\n",
        "    name=None\n",
        ")\n",
        "print(tensor_argmax)\n",
        "# will print index of max number from each column\n"
      ],
      "metadata": {
        "colab": {
          "base_uri": "https://localhost:8080/"
        },
        "id": "mR5uGrzJ2Hrz",
        "outputId": "7f3f872b-3179-4d1e-cdf2-fd9e0141ba4f"
      },
      "execution_count": 27,
      "outputs": [
        {
          "output_type": "stream",
          "name": "stdout",
          "text": [
            "tf.Tensor(\n",
            "[[ 5 20 30  3  6]\n",
            " [ 3  7  8 10 12]\n",
            " [15  0 -1  3  4]\n",
            " [17 19  1  2  3]], shape=(4, 5), dtype=int32)\n",
            " \n",
            "tf.Tensor([2 4 0 1], shape=(4,), dtype=int64)\n"
          ]
        }
      ]
    },
    {
      "cell_type": "code",
      "source": [
        "# tf. math. equal\n",
        "\n",
        "# Returns the truth value of x==y element wise.\n",
        "\n"
      ],
      "metadata": {
        "id": "Bv8R4lxg2Hou"
      },
      "execution_count": 28,
      "outputs": []
    },
    {
      "cell_type": "code",
      "source": [
        "x = tf.constant([2,4])\n",
        "y = tf.constant([2])\n",
        "\n",
        "tensor_equal = tf.math.equal(\n",
        "    x,y,\n",
        "\n",
        ")"
      ],
      "metadata": {
        "id": "ndB1oRew2Hl8"
      },
      "execution_count": 29,
      "outputs": []
    },
    {
      "cell_type": "code",
      "source": [
        "# tf. math. pow\n",
        "\n",
        "# Computes the power of one value to another\n",
        "# element wise operation"
      ],
      "metadata": {
        "id": "IgqyLvW12Hi_"
      },
      "execution_count": 30,
      "outputs": []
    },
    {
      "cell_type": "code",
      "source": [
        "x = tf.constant([[2,2],[3,3]])\n",
        "y = tf.constant([[0,6],[2,3]])\n",
        "\n",
        "tensor_power = tf.math.pow(\n",
        "    x,y\n",
        ")\n",
        "print(tensor_power)\n"
      ],
      "metadata": {
        "colab": {
          "base_uri": "https://localhost:8080/"
        },
        "id": "ncMw04ro2HgA",
        "outputId": "4bb50c71-7821-4a5c-eb68-ef839fb4e078"
      },
      "execution_count": 31,
      "outputs": [
        {
          "output_type": "stream",
          "name": "stdout",
          "text": [
            "tf.Tensor(\n",
            "[[ 1 64]\n",
            " [ 9 27]], shape=(2, 2), dtype=int32)\n"
          ]
        }
      ]
    },
    {
      "cell_type": "code",
      "source": [
        "# tf. math. reduce_max\n",
        "\n",
        "# Computes tf.math.maximum of element across dimensions of a tensor\n"
      ],
      "metadata": {
        "id": "ktB64m_Y2HdT"
      },
      "execution_count": 32,
      "outputs": []
    },
    {
      "cell_type": "code",
      "source": [
        "x = tf.constant([1,2,3,4])\n",
        "\n",
        "\n",
        "tensor_reduce = tf.math.reduce_max(\n",
        "    input_tensor=x,\n",
        "    axis=None,\n",
        "    keepdims= False,\n",
        "    name=None\n",
        ")\n",
        "\n",
        "print(tensor_reduce)\n"
      ],
      "metadata": {
        "colab": {
          "base_uri": "https://localhost:8080/"
        },
        "id": "2oE-t2se2HZK",
        "outputId": "0643bb4e-dcce-415c-918a-714ed1fef1d9"
      },
      "execution_count": 33,
      "outputs": [
        {
          "output_type": "stream",
          "name": "stdout",
          "text": [
            "tf.Tensor(4, shape=(), dtype=int32)\n"
          ]
        }
      ]
    },
    {
      "cell_type": "code",
      "source": [
        "x = tf.constant([[1,5,3,4],[6,3,9,0]])\n",
        "\n",
        "\n",
        "tensor_reduce = tf.math.reduce_max(\n",
        "    input_tensor=x,\n",
        "    axis=None,\n",
        "    keepdims= False,\n",
        "    name=None\n",
        ")\n",
        "\n",
        "print(tensor_reduce)\n"
      ],
      "metadata": {
        "colab": {
          "base_uri": "https://localhost:8080/"
        },
        "id": "pUMTURHL2HVc",
        "outputId": "389718ba-4b01-4f3b-a9e8-eb839e164576"
      },
      "execution_count": 34,
      "outputs": [
        {
          "output_type": "stream",
          "name": "stdout",
          "text": [
            "tf.Tensor(9, shape=(), dtype=int32)\n"
          ]
        }
      ]
    },
    {
      "cell_type": "code",
      "source": [
        "x = tf.constant([[1,5,3,4],[6,3,9,0]])\n",
        "\n",
        "\n",
        "tensor_reduce = tf.math.reduce_max(\n",
        "    input_tensor=x,\n",
        "    axis=None,\n",
        "    keepdims= True, # will print 2D array. it maintains dimension\n",
        "    name=None\n",
        ")\n",
        "\n",
        "print(tensor_reduce)\n"
      ],
      "metadata": {
        "colab": {
          "base_uri": "https://localhost:8080/"
        },
        "id": "fxAwT7hz2HLR",
        "outputId": "190b9758-ddd0-4604-e75d-d06d3496dcec"
      },
      "execution_count": 37,
      "outputs": [
        {
          "output_type": "stream",
          "name": "stdout",
          "text": [
            "tf.Tensor([[9]], shape=(1, 1), dtype=int32)\n"
          ]
        }
      ]
    },
    {
      "cell_type": "code",
      "source": [
        "# tf. math.reduce_sum will return sum of all elements\n",
        "\n",
        "x = tf.constant([[1,5,3,4],[6,3,9,0]])\n",
        "\n",
        "\n",
        "tensor_reduce = tf.math.reduce_sum(\n",
        "    input_tensor=x,\n",
        "    axis=None,\n",
        "    keepdims= True, # will print 2D array. it maintains dimension\n",
        "    name=None\n",
        ")\n",
        "\n",
        "print(tensor_reduce)"
      ],
      "metadata": {
        "colab": {
          "base_uri": "https://localhost:8080/"
        },
        "id": "CxYE5ACv2HH8",
        "outputId": "30718545-3e0b-4096-c24d-481fb437cb90"
      },
      "execution_count": 38,
      "outputs": [
        {
          "output_type": "stream",
          "name": "stdout",
          "text": [
            "tf.Tensor([[31]], shape=(1, 1), dtype=int32)\n"
          ]
        }
      ]
    },
    {
      "cell_type": "code",
      "source": [
        "# tf. math.reduce_sum will return sum of all elements\n",
        "\n",
        "x = tf.constant([[1,5,3,4],[6,3,9,0]])\n",
        "\n",
        "\n",
        "tensor_reduce = tf.math.reduce_sum(\n",
        "    input_tensor=x,\n",
        "    axis=0, # axis = 0 will print array wil element wise addition\n",
        "    keepdims= False, # will\n",
        "    name=None\n",
        ")\n",
        "\n",
        "print(tensor_reduce)"
      ],
      "metadata": {
        "colab": {
          "base_uri": "https://localhost:8080/"
        },
        "id": "Qa9-aQz62HEx",
        "outputId": "88d4e712-d996-4ccc-c7ff-0522e652ac28"
      },
      "execution_count": 40,
      "outputs": [
        {
          "output_type": "stream",
          "name": "stdout",
          "text": [
            "tf.Tensor([ 7  8 12  4], shape=(4,), dtype=int32)\n"
          ]
        }
      ]
    },
    {
      "cell_type": "code",
      "source": [
        "# tf. math.reduce_sum will return sum of all elements\n",
        "\n",
        "x = tf.constant([[1,5,3,4],[6,3,9,0]])\n",
        "print(x)\n",
        "\n",
        "print(\" \")\n",
        "\n",
        "tensor_reduce = tf.math.reduce_sum(\n",
        "    input_tensor=x,\n",
        "    axis=1, #\n",
        "    keepdims= True, # axis=1 and true means rowwise addition\n",
        "    name=None\n",
        ")\n",
        "\n",
        "print(tensor_reduce)"
      ],
      "metadata": {
        "colab": {
          "base_uri": "https://localhost:8080/"
        },
        "id": "_TwyRCJ02HB_",
        "outputId": "a563fdcb-f0da-4896-9368-7183eb19c7ad"
      },
      "execution_count": 43,
      "outputs": [
        {
          "output_type": "stream",
          "name": "stdout",
          "text": [
            "tf.Tensor(\n",
            "[[1 5 3 4]\n",
            " [6 3 9 0]], shape=(2, 4), dtype=int32)\n",
            " \n",
            "tf.Tensor(\n",
            "[[13]\n",
            " [18]], shape=(2, 1), dtype=int32)\n"
          ]
        }
      ]
    },
    {
      "cell_type": "code",
      "source": [
        "# tf. math. top_k\n",
        "\n",
        "# Finds values and indices of the k largest entries for the last\n",
        "# dimension\n"
      ],
      "metadata": {
        "id": "edVnRcmN2G9L"
      },
      "execution_count": 36,
      "outputs": []
    },
    {
      "cell_type": "code",
      "source": [
        "x =  tf.constant([10,20,30,1,4,5,7,8])\n",
        "\n",
        "tensor_top_k = tf.math.top_k(x,k=2)\n",
        "\n",
        "print(tensor_top_k)\n",
        "\n",
        "# based on value of k it will print k maximum number from tensor\n",
        "\n"
      ],
      "metadata": {
        "colab": {
          "base_uri": "https://localhost:8080/"
        },
        "id": "C6c5TA9y2G6P",
        "outputId": "98b8ef08-e70b-4d4d-df05-b018fca6b311"
      },
      "execution_count": 45,
      "outputs": [
        {
          "output_type": "stream",
          "name": "stdout",
          "text": [
            "TopKV2(values=<tf.Tensor: shape=(2,), dtype=int32, numpy=array([30, 20], dtype=int32)>, indices=<tf.Tensor: shape=(2,), dtype=int32, numpy=array([2, 1], dtype=int32)>)\n"
          ]
        }
      ]
    },
    {
      "cell_type": "code",
      "source": [
        "x =  tf.constant([10,20,30,1,4,5,7,8])\n",
        "\n",
        "tensor_top_k = tf.math.top_k(x,k=4) # 4 maximum value from tensor\n",
        "\n",
        "print(tensor_top_k)"
      ],
      "metadata": {
        "colab": {
          "base_uri": "https://localhost:8080/"
        },
        "id": "Dz3wUzZd2G3T",
        "outputId": "38271dbf-984a-417a-a617-21c5d7bd1099"
      },
      "execution_count": 46,
      "outputs": [
        {
          "output_type": "stream",
          "name": "stdout",
          "text": [
            "TopKV2(values=<tf.Tensor: shape=(4,), dtype=int32, numpy=array([30, 20, 10,  8], dtype=int32)>, indices=<tf.Tensor: shape=(4,), dtype=int32, numpy=array([2, 1, 0, 7], dtype=int32)>)\n"
          ]
        }
      ]
    },
    {
      "cell_type": "code",
      "source": [
        "# tf. math. sigmoid\n",
        "\n",
        "# Computes sigmoid of x element wise.\n",
        "\n",
        "# sigmoid(x)= y = 1/(1+exp(-x))\n",
        "\n"
      ],
      "metadata": {
        "id": "89JzAt_62G0S"
      },
      "execution_count": 48,
      "outputs": []
    },
    {
      "cell_type": "code",
      "source": [
        "x =  tf.constant([0,1.0,50.0,8.0])\n",
        "# enter float value only othwise for integer it shows error\n",
        "tensor_sigmoid = tf.math.sigmoid(\n",
        "    x,\n",
        "    name=None\n",
        ")\n",
        "print(tensor_sigmoid)\n"
      ],
      "metadata": {
        "colab": {
          "base_uri": "https://localhost:8080/"
        },
        "id": "PtxgIDI81_Og",
        "outputId": "2e8b9118-9f18-472c-b2cd-0b813db91eff"
      },
      "execution_count": 50,
      "outputs": [
        {
          "output_type": "stream",
          "name": "stdout",
          "text": [
            "tf.Tensor([0.5        0.7310586  1.         0.99966466], shape=(4,), dtype=float32)\n"
          ]
        }
      ]
    }
  ]
}