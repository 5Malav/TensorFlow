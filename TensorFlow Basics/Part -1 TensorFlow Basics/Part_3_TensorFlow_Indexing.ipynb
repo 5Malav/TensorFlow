{
  "nbformat": 4,
  "nbformat_minor": 0,
  "metadata": {
    "colab": {
      "provenance": []
    },
    "kernelspec": {
      "name": "python3",
      "display_name": "Python 3"
    },
    "language_info": {
      "name": "python"
    }
  },
  "cells": [
    {
      "cell_type": "code",
      "source": [
        "import tensorflow as tf"
      ],
      "metadata": {
        "id": "slxu8JAgbDhU"
      },
      "execution_count": 73,
      "outputs": []
    },
    {
      "cell_type": "code",
      "source": [
        "tensor_index = tf.constant([2,4,9,0,4,1,3])\n"
      ],
      "metadata": {
        "id": "yR4J9iFdZ8Et"
      },
      "execution_count": 74,
      "outputs": []
    },
    {
      "cell_type": "code",
      "source": [
        "# get value 4\n",
        "\n",
        "print(tensor_index[3])\n",
        "\n"
      ],
      "metadata": {
        "colab": {
          "base_uri": "https://localhost:8080/"
        },
        "id": "PAd3NaVDZ8Bi",
        "outputId": "4596166b-ff22-45c7-878d-266a853accc2"
      },
      "execution_count": 75,
      "outputs": [
        {
          "output_type": "stream",
          "name": "stdout",
          "text": [
            "tf.Tensor(0, shape=(), dtype=int32)\n"
          ]
        }
      ]
    },
    {
      "cell_type": "code",
      "source": [
        "print(tensor_index[1],tensor_index[-1])\n"
      ],
      "metadata": {
        "colab": {
          "base_uri": "https://localhost:8080/"
        },
        "id": "E9bDv_NDZ7_M",
        "outputId": "da24e51c-36cf-4941-b6a5-ea328b5d0514"
      },
      "execution_count": 76,
      "outputs": [
        {
          "output_type": "stream",
          "name": "stdout",
          "text": [
            "tf.Tensor(4, shape=(), dtype=int32) tf.Tensor(3, shape=(), dtype=int32)\n"
          ]
        }
      ]
    },
    {
      "cell_type": "code",
      "source": [
        "print(tensor_index[0:4])\n",
        "\n"
      ],
      "metadata": {
        "colab": {
          "base_uri": "https://localhost:8080/"
        },
        "id": "XH1dBl8tZ78s",
        "outputId": "0ac6badf-ddd6-42d8-ffd6-d40c42ce5517"
      },
      "execution_count": 77,
      "outputs": [
        {
          "output_type": "stream",
          "name": "stdout",
          "text": [
            "tf.Tensor([2 4 9 0], shape=(4,), dtype=int32)\n"
          ]
        }
      ]
    },
    {
      "cell_type": "code",
      "source": [
        "#start:end\n",
        "\n",
        "\n",
        "#tensor_index[start:end+1]\n",
        "print(tensor_index)"
      ],
      "metadata": {
        "id": "gSpWnxJsZ76V",
        "colab": {
          "base_uri": "https://localhost:8080/"
        },
        "outputId": "3cb1f43c-a0b0-4734-9645-85f1fc52fb13"
      },
      "execution_count": 78,
      "outputs": [
        {
          "output_type": "stream",
          "name": "stdout",
          "text": [
            "tf.Tensor([2 4 9 0 4 1 3], shape=(7,), dtype=int32)\n"
          ]
        }
      ]
    },
    {
      "cell_type": "code",
      "source": [
        "tensor_index[0:2+1]\n"
      ],
      "metadata": {
        "id": "fpcUKY4zZ74w",
        "colab": {
          "base_uri": "https://localhost:8080/"
        },
        "outputId": "f7e366d8-7ec3-44d4-d706-5b8da146e28c"
      },
      "execution_count": 79,
      "outputs": [
        {
          "output_type": "execute_result",
          "data": {
            "text/plain": [
              "<tf.Tensor: shape=(3,), dtype=int32, numpy=array([2, 4, 9], dtype=int32)>"
            ]
          },
          "metadata": {},
          "execution_count": 79
        }
      ]
    },
    {
      "cell_type": "code",
      "source": [
        "tensor_index[3:5+1]\n",
        "\n"
      ],
      "metadata": {
        "id": "sYTnrAXxZ71c",
        "colab": {
          "base_uri": "https://localhost:8080/"
        },
        "outputId": "61458221-3039-41fc-bf37-a156c827bda7"
      },
      "execution_count": 80,
      "outputs": [
        {
          "output_type": "execute_result",
          "data": {
            "text/plain": [
              "<tf.Tensor: shape=(3,), dtype=int32, numpy=array([0, 4, 1], dtype=int32)>"
            ]
          },
          "metadata": {},
          "execution_count": 80
        }
      ]
    },
    {
      "cell_type": "code",
      "source": [
        "tensor_index[3:]"
      ],
      "metadata": {
        "id": "QupcByeLZ7ym",
        "colab": {
          "base_uri": "https://localhost:8080/"
        },
        "outputId": "ab5a132d-2f42-44f8-b11f-941ee2cce435"
      },
      "execution_count": 81,
      "outputs": [
        {
          "output_type": "execute_result",
          "data": {
            "text/plain": [
              "<tf.Tensor: shape=(4,), dtype=int32, numpy=array([0, 4, 1, 3], dtype=int32)>"
            ]
          },
          "metadata": {},
          "execution_count": 81
        }
      ]
    },
    {
      "cell_type": "code",
      "source": [
        "tensor_index[3:-1]"
      ],
      "metadata": {
        "id": "fji73MDCZ7wq",
        "colab": {
          "base_uri": "https://localhost:8080/"
        },
        "outputId": "540382be-9941-4a63-f391-915f2cf27d60"
      },
      "execution_count": 82,
      "outputs": [
        {
          "output_type": "execute_result",
          "data": {
            "text/plain": [
              "<tf.Tensor: shape=(3,), dtype=int32, numpy=array([0, 4, 1], dtype=int32)>"
            ]
          },
          "metadata": {},
          "execution_count": 82
        }
      ]
    },
    {
      "cell_type": "code",
      "source": [
        "tensor_index[2:-2]"
      ],
      "metadata": {
        "id": "1oPD3U2OZ7uK",
        "colab": {
          "base_uri": "https://localhost:8080/"
        },
        "outputId": "0ffeab42-32de-462e-f161-a2d8e54e1f24"
      },
      "execution_count": 83,
      "outputs": [
        {
          "output_type": "execute_result",
          "data": {
            "text/plain": [
              "<tf.Tensor: shape=(3,), dtype=int32, numpy=array([9, 0, 4], dtype=int32)>"
            ]
          },
          "metadata": {},
          "execution_count": 83
        }
      ]
    },
    {
      "cell_type": "code",
      "source": [
        "tensor_index[:6]"
      ],
      "metadata": {
        "id": "bzeEexr0Z7r1",
        "colab": {
          "base_uri": "https://localhost:8080/"
        },
        "outputId": "e3e301f4-f1ad-4216-e85f-9ccf4b264e25"
      },
      "execution_count": 84,
      "outputs": [
        {
          "output_type": "execute_result",
          "data": {
            "text/plain": [
              "<tf.Tensor: shape=(6,), dtype=int32, numpy=array([2, 4, 9, 0, 4, 1], dtype=int32)>"
            ]
          },
          "metadata": {},
          "execution_count": 84
        }
      ]
    },
    {
      "cell_type": "code",
      "source": [
        "tensor_index[0:5:2]\n"
      ],
      "metadata": {
        "id": "Ar1qkEkcZ7o4",
        "colab": {
          "base_uri": "https://localhost:8080/"
        },
        "outputId": "9e190fd9-95ae-4c33-f750-48f3a645d0ba"
      },
      "execution_count": 85,
      "outputs": [
        {
          "output_type": "execute_result",
          "data": {
            "text/plain": [
              "<tf.Tensor: shape=(3,), dtype=int32, numpy=array([2, 9, 4], dtype=int32)>"
            ]
          },
          "metadata": {},
          "execution_count": 85
        }
      ]
    },
    {
      "cell_type": "code",
      "source": [
        "print(tensor_index[0:5:2])\n",
        "\n",
        "print(\" \")\n",
        "\n",
        "print(tensor_index[0:5:1])"
      ],
      "metadata": {
        "colab": {
          "base_uri": "https://localhost:8080/"
        },
        "id": "Gfkgtv-Zfshy",
        "outputId": "ce132876-016c-471a-a663-905bb4f9c411"
      },
      "execution_count": 86,
      "outputs": [
        {
          "output_type": "stream",
          "name": "stdout",
          "text": [
            "tf.Tensor([2 9 4], shape=(3,), dtype=int32)\n",
            " \n",
            "tf.Tensor([2 4 9 0 4], shape=(5,), dtype=int32)\n"
          ]
        }
      ]
    },
    {
      "cell_type": "code",
      "source": [
        "# 2D tensor\n",
        "\n",
        "tensor_index_two_d = tf.constant([[1,2,3,4],[6,7,8,9],[10,11,12,14]])\n",
        "\n",
        "print(tensor_index_two_d)"
      ],
      "metadata": {
        "colab": {
          "base_uri": "https://localhost:8080/"
        },
        "id": "QzLsbD1ofse5",
        "outputId": "ceb0de66-c9ea-4152-b1a7-77a5ea19d161"
      },
      "execution_count": 87,
      "outputs": [
        {
          "output_type": "stream",
          "name": "stdout",
          "text": [
            "tf.Tensor(\n",
            "[[ 1  2  3  4]\n",
            " [ 6  7  8  9]\n",
            " [10 11 12 14]], shape=(3, 4), dtype=int32)\n"
          ]
        }
      ]
    },
    {
      "cell_type": "code",
      "source": [
        "print(tensor_index_two_d[1])\n"
      ],
      "metadata": {
        "colab": {
          "base_uri": "https://localhost:8080/"
        },
        "id": "7zRlrfeCfscF",
        "outputId": "2970e1ad-dfc8-4cf0-8f49-fcb30135cd8a"
      },
      "execution_count": 88,
      "outputs": [
        {
          "output_type": "stream",
          "name": "stdout",
          "text": [
            "tf.Tensor([6 7 8 9], shape=(4,), dtype=int32)\n"
          ]
        }
      ]
    },
    {
      "cell_type": "code",
      "source": [
        "print(tensor_index_two_d[1,2])\n",
        "\n"
      ],
      "metadata": {
        "id": "UVAeyGfIZ7mU",
        "colab": {
          "base_uri": "https://localhost:8080/"
        },
        "outputId": "ab7a344f-a6b1-4e10-f0a4-d28359f2355e"
      },
      "execution_count": 89,
      "outputs": [
        {
          "output_type": "stream",
          "name": "stdout",
          "text": [
            "tf.Tensor(8, shape=(), dtype=int32)\n"
          ]
        }
      ]
    },
    {
      "cell_type": "code",
      "source": [
        "print(tensor_index_two_d[1,2:4])\n",
        "\n"
      ],
      "metadata": {
        "id": "kLC5aE_IZ7kN",
        "colab": {
          "base_uri": "https://localhost:8080/"
        },
        "outputId": "3d6bdb16-25dd-4987-c467-d0d71700482f"
      },
      "execution_count": 90,
      "outputs": [
        {
          "output_type": "stream",
          "name": "stdout",
          "text": [
            "tf.Tensor([8 9], shape=(2,), dtype=int32)\n"
          ]
        }
      ]
    },
    {
      "cell_type": "code",
      "source": [
        "print(tensor_index_two_d[1,1:4+1])\n"
      ],
      "metadata": {
        "id": "kLgr_neMZ7hY",
        "colab": {
          "base_uri": "https://localhost:8080/"
        },
        "outputId": "e1927127-6733-4a4f-8278-22a1ec9288b6"
      },
      "execution_count": 91,
      "outputs": [
        {
          "output_type": "stream",
          "name": "stdout",
          "text": [
            "tf.Tensor([7 8 9], shape=(3,), dtype=int32)\n"
          ]
        }
      ]
    },
    {
      "cell_type": "code",
      "source": [
        "print(tensor_index_two_d[0:2,0:3])\n"
      ],
      "metadata": {
        "colab": {
          "base_uri": "https://localhost:8080/"
        },
        "id": "k-0UKxNIh23G",
        "outputId": "8d46ca1d-c855-46ee-d269-27ae5941632d"
      },
      "execution_count": 92,
      "outputs": [
        {
          "output_type": "stream",
          "name": "stdout",
          "text": [
            "tf.Tensor(\n",
            "[[1 2 3]\n",
            " [6 7 8]], shape=(2, 3), dtype=int32)\n"
          ]
        }
      ]
    },
    {
      "cell_type": "code",
      "source": [
        "print(tensor_index_two_d[:,0:3])\n"
      ],
      "metadata": {
        "colab": {
          "base_uri": "https://localhost:8080/"
        },
        "id": "HImWGu45h2zw",
        "outputId": "0ca9ed02-0c29-419f-820e-13505c0597af"
      },
      "execution_count": 93,
      "outputs": [
        {
          "output_type": "stream",
          "name": "stdout",
          "text": [
            "tf.Tensor(\n",
            "[[ 1  2  3]\n",
            " [ 6  7  8]\n",
            " [10 11 12]], shape=(3, 3), dtype=int32)\n"
          ]
        }
      ]
    },
    {
      "cell_type": "code",
      "source": [
        "print(tensor_index_two_d[:1,0:3])\n"
      ],
      "metadata": {
        "id": "caninbSaZ7fE",
        "colab": {
          "base_uri": "https://localhost:8080/"
        },
        "outputId": "4a3c2b21-09c9-4d2a-a4e8-1c69b26e6d50"
      },
      "execution_count": 94,
      "outputs": [
        {
          "output_type": "stream",
          "name": "stdout",
          "text": [
            "tf.Tensor([[1 2 3]], shape=(1, 3), dtype=int32)\n"
          ]
        }
      ]
    },
    {
      "cell_type": "code",
      "source": [
        "print(tensor_index_two_d[0,...])# 1D tensor\n",
        "\n",
        "print(\" \")\n",
        "\n",
        "print(tensor_index_two_d[0:1,...]) # 2D tensor with column and row"
      ],
      "metadata": {
        "colab": {
          "base_uri": "https://localhost:8080/"
        },
        "id": "zs8bTKIHi9v5",
        "outputId": "82072843-124f-4071-ff25-84112c27e02e"
      },
      "execution_count": 98,
      "outputs": [
        {
          "output_type": "stream",
          "name": "stdout",
          "text": [
            "tf.Tensor([1 2 3 4], shape=(4,), dtype=int32)\n",
            " \n",
            "tf.Tensor([[1 2 3 4]], shape=(1, 4), dtype=int32)\n"
          ]
        }
      ]
    },
    {
      "cell_type": "code",
      "source": [
        "print(tensor_index_two_d)\n",
        "\n",
        "print(\" \")\n",
        "\n",
        "print(print(tensor_index_two_d[0:2,1:3]))\n",
        "\n"
      ],
      "metadata": {
        "colab": {
          "base_uri": "https://localhost:8080/"
        },
        "id": "fW_lTdBHi9s3",
        "outputId": "627ebade-b552-4b53-cd60-2832e00126d6"
      },
      "execution_count": 100,
      "outputs": [
        {
          "output_type": "stream",
          "name": "stdout",
          "text": [
            "tf.Tensor(\n",
            "[[ 1  2  3  4]\n",
            " [ 6  7  8  9]\n",
            " [10 11 12 14]], shape=(3, 4), dtype=int32)\n",
            " \n",
            "tf.Tensor(\n",
            "[[2 3]\n",
            " [7 8]], shape=(2, 2), dtype=int32)\n",
            "None\n"
          ]
        }
      ]
    },
    {
      "cell_type": "code",
      "source": [
        "tensor_index_three_d = tf.constant(\n",
        "    [\n",
        "      [[1,2,0],\n",
        "      [3,5,-1]],\n",
        "\n",
        "      [[4,7,8],\n",
        "       [9,10,12]],\n",
        "\n",
        "      [[5,8,8],\n",
        "       [2,7,0]],\n",
        "\n",
        "      [[2,1,9],\n",
        "       [4,3,-2]]\n",
        "        ]\n",
        ")\n",
        "print(tensor_index_three_d)\n"
      ],
      "metadata": {
        "id": "mTB_SV2oZ7ct",
        "colab": {
          "base_uri": "https://localhost:8080/"
        },
        "outputId": "2558291f-d3aa-4e57-ef5c-37cf5c53a6ca"
      },
      "execution_count": 102,
      "outputs": [
        {
          "output_type": "stream",
          "name": "stdout",
          "text": [
            "tf.Tensor(\n",
            "[[[ 1  2  0]\n",
            "  [ 3  5 -1]]\n",
            "\n",
            " [[ 4  7  8]\n",
            "  [ 9 10 12]]\n",
            "\n",
            " [[ 5  8  8]\n",
            "  [ 2  7  0]]\n",
            "\n",
            " [[ 2  1  9]\n",
            "  [ 4  3 -2]]], shape=(4, 2, 3), dtype=int32)\n"
          ]
        }
      ]
    },
    {
      "cell_type": "code",
      "source": [
        "tensor_index_three_d.shape"
      ],
      "metadata": {
        "id": "I0YSlvo4Z7aT",
        "colab": {
          "base_uri": "https://localhost:8080/"
        },
        "outputId": "d88c13df-de2b-40d2-b5a7-420f847812c8"
      },
      "execution_count": 103,
      "outputs": [
        {
          "output_type": "execute_result",
          "data": {
            "text/plain": [
              "TensorShape([4, 2, 3])"
            ]
          },
          "metadata": {},
          "execution_count": 103
        }
      ]
    },
    {
      "cell_type": "code",
      "source": [
        "print(tensor_index_three_d[3,0,2])\n",
        "\n",
        "# 3rd block, 0th row, 2nd column\n",
        "\n",
        "# print 9\n"
      ],
      "metadata": {
        "id": "nyHBZ_TvZ7Xi",
        "colab": {
          "base_uri": "https://localhost:8080/"
        },
        "outputId": "eba20a68-0f81-4cec-ffd9-aa4e14b8be1a"
      },
      "execution_count": 107,
      "outputs": [
        {
          "output_type": "stream",
          "name": "stdout",
          "text": [
            "tf.Tensor(9, shape=(), dtype=int32)\n"
          ]
        }
      ]
    },
    {
      "cell_type": "code",
      "source": [
        "print(tensor_index_three_d[3,0,:])"
      ],
      "metadata": {
        "id": "it0dptpuZ7Vc",
        "colab": {
          "base_uri": "https://localhost:8080/"
        },
        "outputId": "f918b85e-2061-40d7-b456-1287a6c68f79"
      },
      "execution_count": 108,
      "outputs": [
        {
          "output_type": "stream",
          "name": "stdout",
          "text": [
            "tf.Tensor([2 1 9], shape=(3,), dtype=int32)\n"
          ]
        }
      ]
    },
    {
      "cell_type": "code",
      "source": [
        "print(tensor_index_three_d[1,1,2])\n",
        "\n",
        "#print 12\n"
      ],
      "metadata": {
        "id": "YqXFkr_CZ7Sx",
        "colab": {
          "base_uri": "https://localhost:8080/"
        },
        "outputId": "a19e88d7-4ee7-47e4-d45b-aaa1702fa837"
      },
      "execution_count": 111,
      "outputs": [
        {
          "output_type": "stream",
          "name": "stdout",
          "text": [
            "tf.Tensor(12, shape=(), dtype=int32)\n"
          ]
        }
      ]
    },
    {
      "cell_type": "code",
      "source": [
        "print(tensor_index_three_d[2,:,0:2])"
      ],
      "metadata": {
        "colab": {
          "base_uri": "https://localhost:8080/"
        },
        "id": "kZDALNfx2VM3",
        "outputId": "6e473599-90f8-48bc-8c7b-ae17d7b8ad61"
      },
      "execution_count": 113,
      "outputs": [
        {
          "output_type": "stream",
          "name": "stdout",
          "text": [
            "tf.Tensor(\n",
            "[[5 8]\n",
            " [2 7]], shape=(2, 2), dtype=int32)\n"
          ]
        }
      ]
    }
  ]
}