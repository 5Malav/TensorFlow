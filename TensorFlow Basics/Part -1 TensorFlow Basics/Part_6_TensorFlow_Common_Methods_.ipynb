{
  "nbformat": 4,
  "nbformat_minor": 0,
  "metadata": {
    "colab": {
      "provenance": []
    },
    "kernelspec": {
      "name": "python3",
      "display_name": "Python 3"
    },
    "language_info": {
      "name": "python"
    }
  },
  "cells": [
    {
      "cell_type": "code",
      "source": [
        "import tensorflow as tf"
      ],
      "metadata": {
        "id": "Q860n5ZC6zd-"
      },
      "execution_count": 1,
      "outputs": []
    },
    {
      "cell_type": "code",
      "source": [
        "# tf. expand_dims\n",
        "\n",
        "# Returns a tensor with a length 1 axis inserted at index axis\n"
      ],
      "metadata": {
        "id": "tT8oiygnGI94"
      },
      "execution_count": null,
      "outputs": []
    },
    {
      "cell_type": "code",
      "source": [
        "a = tf.constant([1,2,3,4,5])\n",
        "a.shape\n"
      ],
      "metadata": {
        "id": "0vVFcbLe6za7",
        "colab": {
          "base_uri": "https://localhost:8080/"
        },
        "outputId": "bbb34d0d-13a9-40af-dfd1-545f04f991c6"
      },
      "execution_count": 4,
      "outputs": [
        {
          "output_type": "execute_result",
          "data": {
            "text/plain": [
              "TensorShape([5])"
            ]
          },
          "metadata": {},
          "execution_count": 4
        }
      ]
    },
    {
      "cell_type": "code",
      "source": [
        "tf.expand_dims(a,axis=0)\n",
        "\n",
        "# add extra dimension of size 1\n"
      ],
      "metadata": {
        "id": "aBuVchXJ6zYH",
        "colab": {
          "base_uri": "https://localhost:8080/"
        },
        "outputId": "0f08d689-b5c5-402b-f975-d137b38e1158"
      },
      "execution_count": 5,
      "outputs": [
        {
          "output_type": "execute_result",
          "data": {
            "text/plain": [
              "<tf.Tensor: shape=(1, 5), dtype=int32, numpy=array([[1, 2, 3, 4, 5]], dtype=int32)>"
            ]
          },
          "metadata": {},
          "execution_count": 5
        }
      ]
    },
    {
      "cell_type": "code",
      "source": [
        "tf.expand_dims(a,axis=1)\n",
        "\n",
        "# 2D tensor\n"
      ],
      "metadata": {
        "id": "_995esmq6zVU",
        "colab": {
          "base_uri": "https://localhost:8080/"
        },
        "outputId": "94ea29b5-0d19-46ad-e5cd-28dc49add12c"
      },
      "execution_count": 6,
      "outputs": [
        {
          "output_type": "execute_result",
          "data": {
            "text/plain": [
              "<tf.Tensor: shape=(5, 1), dtype=int32, numpy=\n",
              "array([[1],\n",
              "       [2],\n",
              "       [3],\n",
              "       [4],\n",
              "       [5]], dtype=int32)>"
            ]
          },
          "metadata": {},
          "execution_count": 6
        }
      ]
    },
    {
      "cell_type": "code",
      "source": [
        "a = tf.constant([[1,2,],\n",
        "                 [3,4]])\n",
        "\n",
        "a.shape"
      ],
      "metadata": {
        "id": "uNS3ibNi6zSY",
        "colab": {
          "base_uri": "https://localhost:8080/"
        },
        "outputId": "bc2324b4-a1e4-4c2f-86c7-3dc098552031"
      },
      "execution_count": 9,
      "outputs": [
        {
          "output_type": "execute_result",
          "data": {
            "text/plain": [
              "TensorShape([2, 2])"
            ]
          },
          "metadata": {},
          "execution_count": 9
        }
      ]
    },
    {
      "cell_type": "code",
      "source": [
        "tf.expand_dims(a,axis=0)\n",
        "\n",
        "#convert 2D to 3D"
      ],
      "metadata": {
        "id": "NUQUEp1H6zPO",
        "colab": {
          "base_uri": "https://localhost:8080/"
        },
        "outputId": "c25f0328-3364-43f4-df19-67b396969d71"
      },
      "execution_count": 10,
      "outputs": [
        {
          "output_type": "execute_result",
          "data": {
            "text/plain": [
              "<tf.Tensor: shape=(1, 2, 2), dtype=int32, numpy=\n",
              "array([[[1, 2],\n",
              "        [3, 4]]], dtype=int32)>"
            ]
          },
          "metadata": {},
          "execution_count": 10
        }
      ]
    },
    {
      "cell_type": "code",
      "source": [
        "tf.expand_dims(a,axis=1)\n"
      ],
      "metadata": {
        "colab": {
          "base_uri": "https://localhost:8080/"
        },
        "id": "5d9qPWrXHObI",
        "outputId": "da39023b-9d96-455e-be76-8ec2a8dc0976"
      },
      "execution_count": 11,
      "outputs": [
        {
          "output_type": "execute_result",
          "data": {
            "text/plain": [
              "<tf.Tensor: shape=(2, 1, 2), dtype=int32, numpy=\n",
              "array([[[1, 2]],\n",
              "\n",
              "       [[3, 4]]], dtype=int32)>"
            ]
          },
          "metadata": {},
          "execution_count": 11
        }
      ]
    },
    {
      "cell_type": "code",
      "source": [
        "tf.expand_dims(a,axis=-1)\n"
      ],
      "metadata": {
        "colab": {
          "base_uri": "https://localhost:8080/"
        },
        "id": "bdEruhRIHOXr",
        "outputId": "d8e32f7c-4335-416c-807a-b84400acb4fe"
      },
      "execution_count": 12,
      "outputs": [
        {
          "output_type": "execute_result",
          "data": {
            "text/plain": [
              "<tf.Tensor: shape=(2, 2, 1), dtype=int32, numpy=\n",
              "array([[[1],\n",
              "        [2]],\n",
              "\n",
              "       [[3],\n",
              "        [4]]], dtype=int32)>"
            ]
          },
          "metadata": {},
          "execution_count": 12
        }
      ]
    },
    {
      "cell_type": "code",
      "source": [
        "# tf. squeeze\n",
        "\n",
        "# Removes dimensions of size 1 from the shape of a tensor\n",
        "\n"
      ],
      "metadata": {
        "id": "C304VzGqHOWN"
      },
      "execution_count": null,
      "outputs": []
    },
    {
      "cell_type": "code",
      "source": [
        "a = tf.expand_dims(a,axis=-1)\n",
        "a.shape\n",
        "print(a)"
      ],
      "metadata": {
        "colab": {
          "base_uri": "https://localhost:8080/"
        },
        "id": "vKZMzi_yHOUf",
        "outputId": "bd33ae8b-8521-412e-c0e5-ac6f09d72525"
      },
      "execution_count": 15,
      "outputs": [
        {
          "output_type": "stream",
          "name": "stdout",
          "text": [
            "tf.Tensor(\n",
            "[[[[1]]\n",
            "\n",
            "  [[2]]]\n",
            "\n",
            "\n",
            " [[[3]]\n",
            "\n",
            "  [[4]]]], shape=(2, 2, 1, 1), dtype=int32)\n"
          ]
        }
      ]
    },
    {
      "cell_type": "code",
      "source": [
        "tf.squeeze(a)"
      ],
      "metadata": {
        "colab": {
          "base_uri": "https://localhost:8080/"
        },
        "id": "2iwHjarGHORO",
        "outputId": "bee919e3-36c0-4836-e9a0-500c36b4b072"
      },
      "execution_count": 14,
      "outputs": [
        {
          "output_type": "execute_result",
          "data": {
            "text/plain": [
              "<tf.Tensor: shape=(2, 2), dtype=int32, numpy=\n",
              "array([[1, 2],\n",
              "       [3, 4]], dtype=int32)>"
            ]
          },
          "metadata": {},
          "execution_count": 14
        }
      ]
    },
    {
      "cell_type": "code",
      "source": [
        "# tf.reshape\n",
        "\n",
        "# Reshapes a tensor\n",
        "\n"
      ],
      "metadata": {
        "id": "Xp--Z8U0HOOF"
      },
      "execution_count": null,
      "outputs": []
    },
    {
      "cell_type": "code",
      "source": [
        "a = tf.constant([1,2,3,4,5,6,7,8,9])\n",
        "print(a)\n",
        "print(\" \")\n",
        "print(a.shape)"
      ],
      "metadata": {
        "colab": {
          "base_uri": "https://localhost:8080/"
        },
        "id": "Zauf5UuIHOK-",
        "outputId": "2846d313-f1ae-470f-f9fc-2bac9194e34a"
      },
      "execution_count": 17,
      "outputs": [
        {
          "output_type": "stream",
          "name": "stdout",
          "text": [
            "tf.Tensor([1 2 3 4 5 6 7 8 9], shape=(9,), dtype=int32)\n",
            " \n",
            "(9,)\n"
          ]
        }
      ]
    },
    {
      "cell_type": "code",
      "source": [
        "tf.reshape(a,[1,9])\n"
      ],
      "metadata": {
        "id": "1mt85aIY6zL3",
        "colab": {
          "base_uri": "https://localhost:8080/"
        },
        "outputId": "a1366d45-f0a6-48c9-9684-67e5345a156f"
      },
      "execution_count": 19,
      "outputs": [
        {
          "output_type": "execute_result",
          "data": {
            "text/plain": [
              "<tf.Tensor: shape=(1, 9), dtype=int32, numpy=array([[1, 2, 3, 4, 5, 6, 7, 8, 9]], dtype=int32)>"
            ]
          },
          "metadata": {},
          "execution_count": 19
        }
      ]
    },
    {
      "cell_type": "code",
      "source": [
        "tf.reshape(a,[3,3])"
      ],
      "metadata": {
        "id": "Df8uhaX16zIk",
        "colab": {
          "base_uri": "https://localhost:8080/"
        },
        "outputId": "f0120dc7-3dd3-4ed8-a928-fa6f723f8cb0"
      },
      "execution_count": 22,
      "outputs": [
        {
          "output_type": "execute_result",
          "data": {
            "text/plain": [
              "<tf.Tensor: shape=(3, 3), dtype=int32, numpy=\n",
              "array([[1, 2, 3],\n",
              "       [4, 5, 6],\n",
              "       [7, 8, 9]], dtype=int32)>"
            ]
          },
          "metadata": {},
          "execution_count": 22
        }
      ]
    },
    {
      "cell_type": "code",
      "source": [
        "tf.reshape(a,[1,-1])\n"
      ],
      "metadata": {
        "id": "6IAc9Qat6zFQ",
        "colab": {
          "base_uri": "https://localhost:8080/"
        },
        "outputId": "44b2a45f-e877-449d-e275-8fac965aff90"
      },
      "execution_count": 25,
      "outputs": [
        {
          "output_type": "execute_result",
          "data": {
            "text/plain": [
              "<tf.Tensor: shape=(1, 9), dtype=int32, numpy=array([[1, 2, 3, 4, 5, 6, 7, 8, 9]], dtype=int32)>"
            ]
          },
          "metadata": {},
          "execution_count": 25
        }
      ]
    },
    {
      "cell_type": "code",
      "source": [
        "tf.reshape(a,[3,3,1])\n",
        "\n"
      ],
      "metadata": {
        "id": "yWmk6V1I6zBv",
        "colab": {
          "base_uri": "https://localhost:8080/"
        },
        "outputId": "4cc272bd-8968-49ef-af9c-3d1117b16cea"
      },
      "execution_count": 26,
      "outputs": [
        {
          "output_type": "execute_result",
          "data": {
            "text/plain": [
              "<tf.Tensor: shape=(3, 3, 1), dtype=int32, numpy=\n",
              "array([[[1],\n",
              "        [2],\n",
              "        [3]],\n",
              "\n",
              "       [[4],\n",
              "        [5],\n",
              "        [6]],\n",
              "\n",
              "       [[7],\n",
              "        [8],\n",
              "        [9]]], dtype=int32)>"
            ]
          },
          "metadata": {},
          "execution_count": 26
        }
      ]
    },
    {
      "cell_type": "code",
      "source": [
        "tf.reshape(a,[3,-1])\n",
        "# -1 means tensorflow will figure out what is the right value for that\n",
        "# dimension\n"
      ],
      "metadata": {
        "colab": {
          "base_uri": "https://localhost:8080/"
        },
        "id": "_PxqClBhJbaP",
        "outputId": "e935a850-aa8c-41a9-c8b4-13c00104a577"
      },
      "execution_count": 30,
      "outputs": [
        {
          "output_type": "execute_result",
          "data": {
            "text/plain": [
              "<tf.Tensor: shape=(3, 3), dtype=int32, numpy=\n",
              "array([[1, 2, 3],\n",
              "       [4, 5, 6],\n",
              "       [7, 8, 9]], dtype=int32)>"
            ]
          },
          "metadata": {},
          "execution_count": 30
        }
      ]
    },
    {
      "cell_type": "code",
      "source": [
        "a1 = tf.constant([[1,2,3],\n",
        "                 [4,5,6]])\n",
        "\n",
        "print(a1)\n",
        "print(\"\")\n",
        "\n",
        "print(\"shape of a1 :\",a1.shape)\n"
      ],
      "metadata": {
        "colab": {
          "base_uri": "https://localhost:8080/"
        },
        "id": "co_uxNqDJbYS",
        "outputId": "c2b59d82-e1fc-4d3d-fb49-e1ec9af711f3"
      },
      "execution_count": 34,
      "outputs": [
        {
          "output_type": "stream",
          "name": "stdout",
          "text": [
            "tf.Tensor(\n",
            "[[1 2 3]\n",
            " [4 5 6]], shape=(2, 3), dtype=int32)\n",
            "\n",
            "shape of a1 : (2, 3)\n"
          ]
        }
      ]
    },
    {
      "cell_type": "code",
      "source": [
        "tf.reshape(a1,[-1])\n"
      ],
      "metadata": {
        "colab": {
          "base_uri": "https://localhost:8080/"
        },
        "id": "kNZ0YAl9JbV6",
        "outputId": "5349ed2d-983a-47fa-d881-bb5cfe9d856d"
      },
      "execution_count": 37,
      "outputs": [
        {
          "output_type": "execute_result",
          "data": {
            "text/plain": [
              "<tf.Tensor: shape=(6,), dtype=int32, numpy=array([1, 2, 3, 4, 5, 6], dtype=int32)>"
            ]
          },
          "metadata": {},
          "execution_count": 37
        }
      ]
    },
    {
      "cell_type": "code",
      "source": [
        "# tf. concat\n",
        "\n",
        "# Concatenates tensors along one dimension\n",
        "\n"
      ],
      "metadata": {
        "id": "CRIxz7x9JbQL"
      },
      "execution_count": null,
      "outputs": []
    },
    {
      "cell_type": "code",
      "source": [
        "tensor_1 = tf.constant([[1,2,3],[4,5,6]])\n",
        "print(tensor_1)\n",
        "\n",
        "print(\" \")\n",
        "\n",
        "\n",
        "tensor_2 = tf.constant([[10,11,12],[7,8,9]])\n",
        "print(tensor_2)\n"
      ],
      "metadata": {
        "colab": {
          "base_uri": "https://localhost:8080/"
        },
        "id": "ij_4ve_hJbNw",
        "outputId": "30973e20-d27f-4e09-a278-c9a98dfee0a7"
      },
      "execution_count": 44,
      "outputs": [
        {
          "output_type": "stream",
          "name": "stdout",
          "text": [
            "tf.Tensor(\n",
            "[[1 2 3]\n",
            " [4 5 6]], shape=(2, 3), dtype=int32)\n",
            " \n",
            "tf.Tensor(\n",
            "[[10 11 12]\n",
            " [ 7  8  9]], shape=(2, 3), dtype=int32)\n"
          ]
        }
      ]
    },
    {
      "cell_type": "code",
      "source": [
        "tf.concat([tensor_1,tensor_2],axis=0)\n"
      ],
      "metadata": {
        "colab": {
          "base_uri": "https://localhost:8080/"
        },
        "id": "6I4yVO6oJbLt",
        "outputId": "1ea9aadd-e6df-4aea-afdf-d4d03c249963"
      },
      "execution_count": 45,
      "outputs": [
        {
          "output_type": "execute_result",
          "data": {
            "text/plain": [
              "<tf.Tensor: shape=(4, 3), dtype=int32, numpy=\n",
              "array([[ 1,  2,  3],\n",
              "       [ 4,  5,  6],\n",
              "       [10, 11, 12],\n",
              "       [ 7,  8,  9]], dtype=int32)>"
            ]
          },
          "metadata": {},
          "execution_count": 45
        }
      ]
    },
    {
      "cell_type": "code",
      "source": [
        "tf.concat([tensor_1,tensor_2],axis=1)\n"
      ],
      "metadata": {
        "colab": {
          "base_uri": "https://localhost:8080/"
        },
        "id": "G1Tu7b-YJbH1",
        "outputId": "9171cf57-b233-4199-c096-4a6f070f4cae"
      },
      "execution_count": 46,
      "outputs": [
        {
          "output_type": "execute_result",
          "data": {
            "text/plain": [
              "<tf.Tensor: shape=(2, 6), dtype=int32, numpy=\n",
              "array([[ 1,  2,  3, 10, 11, 12],\n",
              "       [ 4,  5,  6,  7,  8,  9]], dtype=int32)>"
            ]
          },
          "metadata": {},
          "execution_count": 46
        }
      ]
    },
    {
      "cell_type": "code",
      "source": [
        "t1= tf.constant([\n",
        "    [[1,2],\n",
        "     [3,4]],\n",
        "\n",
        "    [[5,6],\n",
        "     [7,8]]\n",
        "])\n",
        "\n",
        "t2= tf.constant([\n",
        "    [[10,20],\n",
        "     [30,40]],\n",
        "\n",
        "    [[50,60],\n",
        "     [70,80]]\n",
        "])"
      ],
      "metadata": {
        "id": "4DJWYUcLMqaC"
      },
      "execution_count": 50,
      "outputs": []
    },
    {
      "cell_type": "code",
      "source": [
        "print(t1.shape)\n",
        "print(\"\")\n",
        "print(t2.shape)\n"
      ],
      "metadata": {
        "colab": {
          "base_uri": "https://localhost:8080/"
        },
        "id": "fTTD3sTRMqWk",
        "outputId": "1d73010b-3bb2-48e5-bfb8-2c07ef93066b"
      },
      "execution_count": 51,
      "outputs": [
        {
          "output_type": "stream",
          "name": "stdout",
          "text": [
            "(2, 2, 2)\n",
            "\n",
            "(2, 2, 2)\n"
          ]
        }
      ]
    },
    {
      "cell_type": "code",
      "source": [
        "tf.concat([t1,t2],axis=0)\n"
      ],
      "metadata": {
        "colab": {
          "base_uri": "https://localhost:8080/"
        },
        "id": "tEJ8MiLuMqTp",
        "outputId": "9d5ab60d-6bb3-4e1a-8acd-d152922605ad"
      },
      "execution_count": 52,
      "outputs": [
        {
          "output_type": "execute_result",
          "data": {
            "text/plain": [
              "<tf.Tensor: shape=(4, 2, 2), dtype=int32, numpy=\n",
              "array([[[ 1,  2],\n",
              "        [ 3,  4]],\n",
              "\n",
              "       [[ 5,  6],\n",
              "        [ 7,  8]],\n",
              "\n",
              "       [[10, 20],\n",
              "        [30, 40]],\n",
              "\n",
              "       [[50, 60],\n",
              "        [70, 80]]], dtype=int32)>"
            ]
          },
          "metadata": {},
          "execution_count": 52
        }
      ]
    },
    {
      "cell_type": "code",
      "source": [
        "tf.concat([t1,t2],axis=1)\n"
      ],
      "metadata": {
        "colab": {
          "base_uri": "https://localhost:8080/"
        },
        "id": "Bnd_MY6BMqQy",
        "outputId": "5b3aa929-c163-4c0f-e837-0e25e1f0417c"
      },
      "execution_count": 53,
      "outputs": [
        {
          "output_type": "execute_result",
          "data": {
            "text/plain": [
              "<tf.Tensor: shape=(2, 4, 2), dtype=int32, numpy=\n",
              "array([[[ 1,  2],\n",
              "        [ 3,  4],\n",
              "        [10, 20],\n",
              "        [30, 40]],\n",
              "\n",
              "       [[ 5,  6],\n",
              "        [ 7,  8],\n",
              "        [50, 60],\n",
              "        [70, 80]]], dtype=int32)>"
            ]
          },
          "metadata": {},
          "execution_count": 53
        }
      ]
    },
    {
      "cell_type": "code",
      "source": [
        "tf.concat([t1,t2],axis=-1)\n"
      ],
      "metadata": {
        "colab": {
          "base_uri": "https://localhost:8080/"
        },
        "id": "Ejup9JYiJbEl",
        "outputId": "d1c5b5a2-02cf-4e84-c152-c7a9c27c3936"
      },
      "execution_count": 54,
      "outputs": [
        {
          "output_type": "execute_result",
          "data": {
            "text/plain": [
              "<tf.Tensor: shape=(2, 2, 4), dtype=int32, numpy=\n",
              "array([[[ 1,  2, 10, 20],\n",
              "        [ 3,  4, 30, 40]],\n",
              "\n",
              "       [[ 5,  6, 50, 60],\n",
              "        [ 7,  8, 70, 80]]], dtype=int32)>"
            ]
          },
          "metadata": {},
          "execution_count": 54
        }
      ]
    },
    {
      "cell_type": "code",
      "source": [
        "tf.concat([t1,t2],axis=-2)\n"
      ],
      "metadata": {
        "colab": {
          "base_uri": "https://localhost:8080/"
        },
        "id": "3z0AcLAtJbCG",
        "outputId": "b887b4ac-e24d-4a9d-ec5a-4ef6dd703075"
      },
      "execution_count": 55,
      "outputs": [
        {
          "output_type": "execute_result",
          "data": {
            "text/plain": [
              "<tf.Tensor: shape=(2, 4, 2), dtype=int32, numpy=\n",
              "array([[[ 1,  2],\n",
              "        [ 3,  4],\n",
              "        [10, 20],\n",
              "        [30, 40]],\n",
              "\n",
              "       [[ 5,  6],\n",
              "        [ 7,  8],\n",
              "        [50, 60],\n",
              "        [70, 80]]], dtype=int32)>"
            ]
          },
          "metadata": {},
          "execution_count": 55
        }
      ]
    },
    {
      "cell_type": "code",
      "source": [
        "# tf.stack\n",
        "\n",
        "# Stacks a list of rank-R tensors into one rank - (R+1) tensor\n",
        "\n",
        "# with contact there is no extra dimension is created\n",
        "# with stackk if input is 2D then output will be 3D\n"
      ],
      "metadata": {
        "id": "W7O3MehAPpyb"
      },
      "execution_count": null,
      "outputs": []
    },
    {
      "cell_type": "code",
      "source": [
        "tf.stack([t1,t2],axis=0)\n",
        "\n"
      ],
      "metadata": {
        "colab": {
          "base_uri": "https://localhost:8080/"
        },
        "id": "ORX6j3gEPpud",
        "outputId": "9033ee57-cf95-4ccb-bc88-6a8718b89ce0"
      },
      "execution_count": 57,
      "outputs": [
        {
          "output_type": "execute_result",
          "data": {
            "text/plain": [
              "<tf.Tensor: shape=(2, 2, 2, 2), dtype=int32, numpy=\n",
              "array([[[[ 1,  2],\n",
              "         [ 3,  4]],\n",
              "\n",
              "        [[ 5,  6],\n",
              "         [ 7,  8]]],\n",
              "\n",
              "\n",
              "       [[[10, 20],\n",
              "         [30, 40]],\n",
              "\n",
              "        [[50, 60],\n",
              "         [70, 80]]]], dtype=int32)>"
            ]
          },
          "metadata": {},
          "execution_count": 57
        }
      ]
    },
    {
      "cell_type": "code",
      "source": [
        "tensor_1 = tf.constant([[1,2,3],[4,5,6]])\n",
        "print(tensor_1)\n",
        "\n",
        "print(\" \")\n",
        "\n",
        "\n",
        "tensor_2 = tf.constant([[10,11,12],[7,8,9]])\n",
        "print(tensor_2)"
      ],
      "metadata": {
        "colab": {
          "base_uri": "https://localhost:8080/"
        },
        "id": "ANwKuR4BPpgp",
        "outputId": "c9d8ef9d-18ea-46a3-9bfa-8fa7e31d6702"
      },
      "execution_count": 58,
      "outputs": [
        {
          "output_type": "stream",
          "name": "stdout",
          "text": [
            "tf.Tensor(\n",
            "[[1 2 3]\n",
            " [4 5 6]], shape=(2, 3), dtype=int32)\n",
            " \n",
            "tf.Tensor(\n",
            "[[10 11 12]\n",
            " [ 7  8  9]], shape=(2, 3), dtype=int32)\n"
          ]
        }
      ]
    },
    {
      "cell_type": "code",
      "source": [
        "tf.stack([tensor_1,tensor_2],axis=0)\n"
      ],
      "metadata": {
        "colab": {
          "base_uri": "https://localhost:8080/"
        },
        "id": "zczsNbUuPpcv",
        "outputId": "8f5fce89-0d6c-4d89-e09c-b92403141ce0"
      },
      "execution_count": 59,
      "outputs": [
        {
          "output_type": "execute_result",
          "data": {
            "text/plain": [
              "<tf.Tensor: shape=(2, 2, 3), dtype=int32, numpy=\n",
              "array([[[ 1,  2,  3],\n",
              "        [ 4,  5,  6]],\n",
              "\n",
              "       [[10, 11, 12],\n",
              "        [ 7,  8,  9]]], dtype=int32)>"
            ]
          },
          "metadata": {},
          "execution_count": 59
        }
      ]
    },
    {
      "cell_type": "code",
      "source": [
        "tf.stack([tensor_1,tensor_2],axis=1)\n"
      ],
      "metadata": {
        "colab": {
          "base_uri": "https://localhost:8080/"
        },
        "id": "vipAplQ_Ja_j",
        "outputId": "e2b3786b-56d3-4998-fdee-561abf76325c"
      },
      "execution_count": 60,
      "outputs": [
        {
          "output_type": "execute_result",
          "data": {
            "text/plain": [
              "<tf.Tensor: shape=(2, 2, 3), dtype=int32, numpy=\n",
              "array([[[ 1,  2,  3],\n",
              "        [10, 11, 12]],\n",
              "\n",
              "       [[ 4,  5,  6],\n",
              "        [ 7,  8,  9]]], dtype=int32)>"
            ]
          },
          "metadata": {},
          "execution_count": 60
        }
      ]
    },
    {
      "cell_type": "code",
      "source": [
        "tf.stack([tensor_1,tensor_2],axis=-1)\n"
      ],
      "metadata": {
        "colab": {
          "base_uri": "https://localhost:8080/"
        },
        "id": "xB2q0FpnS_nO",
        "outputId": "0db402cf-c5c3-448e-b74c-d9507b188efe"
      },
      "execution_count": 61,
      "outputs": [
        {
          "output_type": "execute_result",
          "data": {
            "text/plain": [
              "<tf.Tensor: shape=(2, 3, 2), dtype=int32, numpy=\n",
              "array([[[ 1, 10],\n",
              "        [ 2, 11],\n",
              "        [ 3, 12]],\n",
              "\n",
              "       [[ 4,  7],\n",
              "        [ 5,  8],\n",
              "        [ 6,  9]]], dtype=int32)>"
            ]
          },
          "metadata": {},
          "execution_count": 61
        }
      ]
    },
    {
      "cell_type": "code",
      "source": [
        "# tf. pad\n",
        "\n",
        "# Pads a tensor\n",
        "\n"
      ],
      "metadata": {
        "id": "J_8Bz2buS_j6"
      },
      "execution_count": null,
      "outputs": []
    },
    {
      "cell_type": "code",
      "source": [
        "tensor_1 = tf.constant([[1,2,3],[4,5,6]])\n",
        "print(tensor_1)\n",
        "\n",
        "print(\" \")\n",
        "\n",
        "\n",
        "tensor_2 = tf.constant([[10,11,12],[7,8,9]])\n",
        "print(tensor_2)\n",
        "\n",
        "print(\" \")\n",
        "\n",
        "paddings = tf.constant([[1,1],[2,2]])\n",
        "print(paddings)\n",
        "\n",
        "# contant values is 0\n",
        "\n"
      ],
      "metadata": {
        "colab": {
          "base_uri": "https://localhost:8080/"
        },
        "id": "MST4g0dPS_hR",
        "outputId": "abea5903-5062-43f4-8227-65b69bdee941"
      },
      "execution_count": 63,
      "outputs": [
        {
          "output_type": "stream",
          "name": "stdout",
          "text": [
            "tf.Tensor(\n",
            "[[1 2 3]\n",
            " [4 5 6]], shape=(2, 3), dtype=int32)\n",
            " \n",
            "tf.Tensor(\n",
            "[[10 11 12]\n",
            " [ 7  8  9]], shape=(2, 3), dtype=int32)\n",
            " \n",
            "tf.Tensor(\n",
            "[[1 1]\n",
            " [2 2]], shape=(2, 2), dtype=int32)\n"
          ]
        }
      ]
    },
    {
      "cell_type": "code",
      "source": [
        "tf.pad(tensor_1,paddings,\"CONSTANT\")\n",
        "\n"
      ],
      "metadata": {
        "colab": {
          "base_uri": "https://localhost:8080/"
        },
        "id": "8T1iDy2fS_ei",
        "outputId": "21636cfb-f31f-429c-8e21-2b9d9a8726e1"
      },
      "execution_count": 69,
      "outputs": [
        {
          "output_type": "execute_result",
          "data": {
            "text/plain": [
              "<tf.Tensor: shape=(4, 7), dtype=int32, numpy=\n",
              "array([[0, 0, 0, 0, 0, 0, 0],\n",
              "       [0, 0, 1, 2, 3, 0, 0],\n",
              "       [0, 0, 4, 5, 6, 0, 0],\n",
              "       [0, 0, 0, 0, 0, 0, 0]], dtype=int32)>"
            ]
          },
          "metadata": {},
          "execution_count": 69
        }
      ]
    },
    {
      "cell_type": "code",
      "source": [
        "# paddings values permit us to know how many values\n",
        "# for at the top we are gonna add\n",
        "# how many values at the bottom we are gonna add\n",
        "# how many values to the left and right we are gonna add\n"
      ],
      "metadata": {
        "id": "15HLOiltS_b7"
      },
      "execution_count": null,
      "outputs": []
    },
    {
      "cell_type": "code",
      "source": [
        "tf.pad(tensor_1,paddings,\"REFLECT\")\n"
      ],
      "metadata": {
        "colab": {
          "base_uri": "https://localhost:8080/"
        },
        "id": "ccLpywl6Ja89",
        "outputId": "48a5b8e7-0c5f-45b5-f3b7-d47629cbf636"
      },
      "execution_count": 70,
      "outputs": [
        {
          "output_type": "execute_result",
          "data": {
            "text/plain": [
              "<tf.Tensor: shape=(4, 7), dtype=int32, numpy=\n",
              "array([[6, 5, 4, 5, 6, 5, 4],\n",
              "       [3, 2, 1, 2, 3, 2, 1],\n",
              "       [6, 5, 4, 5, 6, 5, 4],\n",
              "       [3, 2, 1, 2, 3, 2, 1]], dtype=int32)>"
            ]
          },
          "metadata": {},
          "execution_count": 70
        }
      ]
    },
    {
      "cell_type": "code",
      "source": [
        "# Reflect means value around tensors will be from tensor itself\n",
        "\n"
      ],
      "metadata": {
        "id": "cLRYJfSqJa6h"
      },
      "execution_count": null,
      "outputs": []
    },
    {
      "cell_type": "code",
      "source": [
        "# tf.gather\n",
        "\n",
        "# Gather slices from params axis according to indices"
      ],
      "metadata": {
        "id": "7nZXxx2fVzVz"
      },
      "execution_count": null,
      "outputs": []
    },
    {
      "cell_type": "code",
      "source": [
        "a = tf.constant([1,2,3,4,5])\n",
        "a"
      ],
      "metadata": {
        "colab": {
          "base_uri": "https://localhost:8080/"
        },
        "id": "0-nLcP4nV8-Q",
        "outputId": "423565df-02ae-4aab-a59a-42ff6bbbb856"
      },
      "execution_count": 78,
      "outputs": [
        {
          "output_type": "execute_result",
          "data": {
            "text/plain": [
              "<tf.Tensor: shape=(5,), dtype=int32, numpy=array([1, 2, 3, 4, 5], dtype=int32)>"
            ]
          },
          "metadata": {},
          "execution_count": 78
        }
      ]
    },
    {
      "cell_type": "code",
      "source": [
        "# when we slice tensor like...\n",
        "# values will come in order if we do not want it like this\n",
        "# we can use gather method\n",
        "\n",
        "a[1:3]\n"
      ],
      "metadata": {
        "colab": {
          "base_uri": "https://localhost:8080/"
        },
        "id": "IrGF6fFxV87N",
        "outputId": "71040272-0693-47cf-c10c-3d634e6d021b"
      },
      "execution_count": 79,
      "outputs": [
        {
          "output_type": "execute_result",
          "data": {
            "text/plain": [
              "<tf.Tensor: shape=(2,), dtype=int32, numpy=array([2, 3], dtype=int32)>"
            ]
          },
          "metadata": {},
          "execution_count": 79
        }
      ]
    },
    {
      "cell_type": "code",
      "source": [
        "tf.gather(a,[0,2,4],axis=0)\n",
        "\n"
      ],
      "metadata": {
        "colab": {
          "base_uri": "https://localhost:8080/"
        },
        "id": "bPXZmz4LV83K",
        "outputId": "4487f93f-39c3-4c38-e139-f356bfb6a192"
      },
      "execution_count": 82,
      "outputs": [
        {
          "output_type": "execute_result",
          "data": {
            "text/plain": [
              "<tf.Tensor: shape=(3,), dtype=int32, numpy=array([1, 3, 5], dtype=int32)>"
            ]
          },
          "metadata": {},
          "execution_count": 82
        }
      ]
    },
    {
      "cell_type": "code",
      "source": [
        "a = tf.constant([[1,2,3,4,5],\n",
        "                 [6,7,8,9,10],\n",
        "                 [11,12,13,14,15],\n",
        "                 [16,17,18,19,20]])\n",
        "\n",
        "a"
      ],
      "metadata": {
        "colab": {
          "base_uri": "https://localhost:8080/"
        },
        "id": "IsT1ENjuWndE",
        "outputId": "4abe2ea8-927c-4d1e-c87f-e7be87ce2c6e"
      },
      "execution_count": 84,
      "outputs": [
        {
          "output_type": "execute_result",
          "data": {
            "text/plain": [
              "<tf.Tensor: shape=(4, 5), dtype=int32, numpy=\n",
              "array([[ 1,  2,  3,  4,  5],\n",
              "       [ 6,  7,  8,  9, 10],\n",
              "       [11, 12, 13, 14, 15],\n",
              "       [16, 17, 18, 19, 20]], dtype=int32)>"
            ]
          },
          "metadata": {},
          "execution_count": 84
        }
      ]
    },
    {
      "cell_type": "code",
      "source": [
        "tf.gather(a,[1,2],axis=0)\n"
      ],
      "metadata": {
        "colab": {
          "base_uri": "https://localhost:8080/"
        },
        "id": "MxwCMe1aWnZf",
        "outputId": "24155bd8-a405-4a27-d543-12dfd46e4ae4"
      },
      "execution_count": 89,
      "outputs": [
        {
          "output_type": "execute_result",
          "data": {
            "text/plain": [
              "<tf.Tensor: shape=(2, 5), dtype=int32, numpy=\n",
              "array([[ 6,  7,  8,  9, 10],\n",
              "       [11, 12, 13, 14, 15]], dtype=int32)>"
            ]
          },
          "metadata": {},
          "execution_count": 89
        }
      ]
    },
    {
      "cell_type": "code",
      "source": [
        "tf.gather(a,[3,4],axis=1)\n",
        "\n"
      ],
      "metadata": {
        "colab": {
          "base_uri": "https://localhost:8080/"
        },
        "id": "5I_c7Z3qWnWs",
        "outputId": "44065f83-2e2f-41d9-8fa9-b824b7ed98b9"
      },
      "execution_count": 92,
      "outputs": [
        {
          "output_type": "execute_result",
          "data": {
            "text/plain": [
              "<tf.Tensor: shape=(4, 2), dtype=int32, numpy=\n",
              "array([[ 4,  5],\n",
              "       [ 9, 10],\n",
              "       [14, 15],\n",
              "       [19, 20]], dtype=int32)>"
            ]
          },
          "metadata": {},
          "execution_count": 92
        }
      ]
    },
    {
      "cell_type": "code",
      "source": [
        "tf.gather(a,[[1,2],[3,4]],axis=1)\n",
        "\n"
      ],
      "metadata": {
        "colab": {
          "base_uri": "https://localhost:8080/"
        },
        "id": "Gcb8OHjgWnTj",
        "outputId": "a21c611b-ac78-46c8-fdf0-878647b962a3"
      },
      "execution_count": 94,
      "outputs": [
        {
          "output_type": "execute_result",
          "data": {
            "text/plain": [
              "<tf.Tensor: shape=(4, 2, 2), dtype=int32, numpy=\n",
              "array([[[ 2,  3],\n",
              "        [ 4,  5]],\n",
              "\n",
              "       [[ 7,  8],\n",
              "        [ 9, 10]],\n",
              "\n",
              "       [[12, 13],\n",
              "        [14, 15]],\n",
              "\n",
              "       [[17, 18],\n",
              "        [19, 20]]], dtype=int32)>"
            ]
          },
          "metadata": {},
          "execution_count": 94
        }
      ]
    },
    {
      "cell_type": "code",
      "source": [
        "a = tf.constant([[1,2,3,4,5],\n",
        "                 [6,7,8,9,10],\n",
        "                 [11,12,13,14,15],\n",
        "                 [16,17,18,19,20]])\n",
        "\n",
        "a"
      ],
      "metadata": {
        "colab": {
          "base_uri": "https://localhost:8080/"
        },
        "id": "zGGINxj0YHaz",
        "outputId": "138b69c1-7542-4d40-c493-0d5ba6b69d82"
      },
      "execution_count": 99,
      "outputs": [
        {
          "output_type": "execute_result",
          "data": {
            "text/plain": [
              "<tf.Tensor: shape=(4, 5), dtype=int32, numpy=\n",
              "array([[ 1,  2,  3,  4,  5],\n",
              "       [ 6,  7,  8,  9, 10],\n",
              "       [11, 12, 13, 14, 15],\n",
              "       [16, 17, 18, 19, 20]], dtype=int32)>"
            ]
          },
          "metadata": {},
          "execution_count": 99
        }
      ]
    },
    {
      "cell_type": "code",
      "source": [
        "tf.gather_nd(a,[[1,2],[3,4]])\n",
        "\n",
        "# pick up elements directly from tensor\n"
      ],
      "metadata": {
        "id": "hIcFamhC6y4t",
        "colab": {
          "base_uri": "https://localhost:8080/"
        },
        "outputId": "4d5b2393-1585-49a4-8a88-1e25f397e793"
      },
      "execution_count": 101,
      "outputs": [
        {
          "output_type": "execute_result",
          "data": {
            "text/plain": [
              "<tf.Tensor: shape=(2,), dtype=int32, numpy=array([ 8, 20], dtype=int32)>"
            ]
          },
          "metadata": {},
          "execution_count": 101
        }
      ]
    }
  ]
}